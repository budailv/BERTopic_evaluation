{
 "cells": [
  {
   "cell_type": "markdown",
   "metadata": {
    "id": "iCGERDM6UKd_"
   },
   "source": [
    "# **Topic Model Evaluation**\n",
    "Here, you will find the code needed to run the experiments of the paper:\n",
    "\n",
    "*BERTopic: Neural topic modeling with a class-based TF-IDF procedure*.\n",
    "\n",
    "The package itself can be found [here](https://github.com/MaartenGr/BERTopic) and the repository for evaluation [here]()."
   ]
  },
  {
   "cell_type": "markdown",
   "metadata": {
    "id": "MFwg78cJ0BFg"
   },
   "source": [
    "## **Installation**\n",
    "First, we need to install a few packages in order to run our experiments. Most of the packages are installed through the `tm_evaluation` package of which [OCTIS](https://github.com/MIND-Lab/OCTIS) is an important component. \n",
    "\n",
    "You can install the evaluation package with `pip install .` from the root. To additionally install CTM run `pip install .[ctm]`To install BERTopic, run `pip install bertopic==v0.9.4` after installing the base package or use `pip install .[bertopic]`. Top2Vec should be installed with `pip install top2vec==v1.0.26` after installing the base package. "
   ]
  },
  {
   "cell_type": "markdown",
   "metadata": {
    "id": "dLesRC-17zN9"
   },
   "source": [
    "To run a faster version of LDAseq for dynamic topic modeling, we need to uninstall gensim and install a specific merge that allows for this speed-up. First, run `pip uninstall gensim -y`, then, run `pip install git+https://github.com/RaRe-Technologies/gensim.git@refs/pull/3172/merge`"
   ]
  },
  {
   "cell_type": "markdown",
   "metadata": {
    "id": "fisNVVa977e-"
   },
   "source": [
    "**NOTE**: After installing the above packages, make sure to restart the runtime otherwise you are likely to run into issues. "
   ]
  },
  {
   "cell_type": "markdown",
   "metadata": {
    "id": "nQnAdKJ-Do1S"
   },
   "source": [
    "#  1. **Data**\n",
    "Some of the data can be accessed through OCTIS, such as the `20NewsGroup` and `BBC_News` datasets. Other datasets, however, are downloaded and then run through OCTIS in order to be used in their pipeline. \n",
    "\n",
    "The datasets that we are going to be preparing are: \n",
    "* Trump's tweets\n",
    "* United Nations general debates between 2006 and 2015 "
   ]
  },
  {
   "cell_type": "code",
   "execution_count": 1,
   "metadata": {},
   "outputs": [
    {
     "name": "stdout",
     "output_type": "stream",
     "text": [
      "/home/budu/BERTopic_evaluation\n"
     ]
    },
    {
     "name": "stderr",
     "output_type": "stream",
     "text": [
      "/home/budu/BERTopic_evaluation/venv/lib/python3.10/site-packages/IPython/core/magics/osm.py:417: UserWarning: This is now an optional IPython functionality, setting dhist requires you to install the `pickleshare` library.\n",
      "  self.shell.db['dhist'] = compress_dhist(dhist)[-100:]\n"
     ]
    }
   ],
   "source": [
    "%cd .."
   ]
  },
  {
   "cell_type": "code",
   "execution_count": 2,
   "metadata": {},
   "outputs": [
    {
     "name": "stderr",
     "output_type": "stream",
     "text": [
      "/home/budu/BERTopic_evaluation/venv/lib/python3.10/site-packages/tqdm/auto.py:21: TqdmWarning: IProgress not found. Please update jupyter and ipywidgets. See https://ipywidgets.readthedocs.io/en/stable/user_install.html\n",
      "  from .autonotebook import tqdm as notebook_tqdm\n",
      "[nltk_data] Downloading package punkt to /home/budu/nltk_data...\n",
      "[nltk_data]   Package punkt is already up-to-date!\n"
     ]
    }
   ],
   "source": [
    "from evaluation import Trainer, DataLoader"
   ]
  },
  {
   "cell_type": "markdown",
   "metadata": {
    "id": "YLvF2devjGZt"
   },
   "source": [
    "## Trump\n",
    "The data can be found here: https://www.thetrumparchive.com/faq\n",
    "\n",
    "Using our `DataLoader` we can prepare the documents and save them in an OCTIS-based format: "
   ]
  },
  {
   "cell_type": "code",
   "execution_count": 6,
   "metadata": {
    "colab": {
     "base_uri": "https://localhost:8080/"
    },
    "id": "N-X1poWssOoQ",
    "outputId": "5c6b14ff-0ce3-43f0-d18e-fa3952cba31b"
   },
   "outputs": [
    {
     "name": "stderr",
     "output_type": "stream",
     "text": [
      "100%|█████████████████████████████████████████████████████████████████████████| 46693/46693 [00:00<00:00, 303533.92it/s]\n"
     ]
    },
    {
     "name": "stdout",
     "output_type": "stream",
     "text": [
      "created vocab\n",
      "53637\n",
      "words filtering done\n",
      "CPU times: user 2.43 s, sys: 190 ms, total: 2.62 s\n",
      "Wall time: 20 s\n"
     ]
    }
   ],
   "source": [
    "%%time\n",
    "dataloader = DataLoader(dataset=\"trump\").prepare_docs(save=\"trump.txt\").preprocess_octis(output_folder=\"trump\")"
   ]
  },
  {
   "cell_type": "markdown",
   "metadata": {
    "id": "wV-GDOko9CaC"
   },
   "source": [
    "Additionally, there isa DTM variant that creates 10 timesteps to be used in the dynamic topic modeling experiments:"
   ]
  },
  {
   "cell_type": "code",
   "execution_count": null,
   "metadata": {
    "id": "i9P7qS9Qp56K"
   },
   "outputs": [],
   "source": [
    "%%time\n",
    "dataloader = DataLoader(dataset=\"trump_dtm\").prepare_docs(save=\"trump_dtm.txt\").preprocess_octis(output_folder=\"trump_dtm\")"
   ]
  },
  {
   "cell_type": "markdown",
   "metadata": {
    "id": "4DFzHi8Tp_6Z"
   },
   "source": [
    "## United Nations\n",
    "\n",
    "The transcriptions of the United Nations (UN) general debates between 2006 and 2015. The data can be found here: https://runestone.academy/runestone/books/published/httlads/_static/un-general-debates.csv"
   ]
  },
  {
   "cell_type": "code",
   "execution_count": null,
   "metadata": {
    "colab": {
     "base_uri": "https://localhost:8080/"
    },
    "id": "-exAptIjqBrO",
    "outputId": "56773d61-3810-4ef4-9f20-9ee339c08faa"
   },
   "outputs": [
    {
     "name": "stdout",
     "output_type": "stream",
     "text": [
      "created vocab\n",
      "69447\n",
      "words filtering done\n",
      "CPU times: user 22min, sys: 21.5 s, total: 22min 21s\n",
      "Wall time: 22min 22s\n"
     ]
    }
   ],
   "source": [
    "%%time\n",
    "dataloader = DataLoader(dataset=\"un_dtm\").prepare_docs(save=\"un_dtm.txt\").preprocess_octis(output_folder=\"un_dtm\")"
   ]
  },
  {
   "cell_type": "markdown",
   "metadata": {
    "id": "GRJJvgHyjYa6"
   },
   "source": [
    "# 2. **Evaluation**\n",
    "After preparing our data, we can start evaluating the topic models as used in the experiments. OCTIS already has a number of models prepared that we can use directly as shown below. \n",
    "\n",
    "First, we specify what the dataset is and whether that was a custom dataset not found in OCTIS. To run our custom trump dataset, we run `dataset, custom = \"trump\", True`. In contrast, if we are to use the prepackaged 20NewsGroup dataset, we run `dataset, custom = \"20NewsGroup\", False` instead. \n",
    "\n",
    "The OCTIS datasets can be found [here](https://github.com/MIND-Lab/OCTIS#available-datasets). \n",
    "\n",
    "Second, we define a number of parameters to be used for the model. It uses the following format: \n",
    "\n",
    "`params = {\"num_topics\": [(i+1)*10 for i in range(5)], \"random_state\": random_state}`\n",
    "\n",
    "were we define a number of topics to loop over and calculate the evluation metrics but also define a number of parameters used in the models. \n",
    "\n",
    "#### **Parameters**\n",
    "The parameters for LDA and NMF:\n",
    "\n",
    "\n",
    "```python\n",
    "params = {\"num_topics\": [(i+1)*10 for i in range(5)], \"random_state\": random_state}`\n",
    "```\n",
    "\n",
    "The parameters for Top2Vec:\n",
    "\n",
    "```python\n",
    "params = {\"nr_topics\": [(i+1)*10 for i in range(5)],\n",
    "          \"hdbscan_args\": {'min_cluster_size': 15,\n",
    "                            'metric': 'euclidean',\n",
    "                            'cluster_selection_method': 'eom'}}\n",
    "```\n",
    "Note that the `min_cluster_size` is 15 for all datasets except BBC_News.\n",
    "\n",
    "The parameters for CTM:\n",
    "\n",
    "```python\n",
    "params = {\n",
    "    \"n_components\": [(i+1)*10 for i in range(5)],\n",
    "    \"contextual_size\":768\n",
    "}\n",
    "```\n",
    "\n",
    "The parameters for BERTopic:\n",
    "\n",
    "```python\n",
    "params = {\n",
    "    \"nr_topics\": [(i+1)*10 for i in range(5)],\n",
    "    \"min_topic_size\": 15,\n",
    "    \"verbose\": True\n",
    "}\n",
    "```\n",
    "\n",
    "Note that the `min_topic_size` is 15 for all datasets except BBC_News. Note that we do not set a `embedding_model` here. We do this on purpose as we can generate the embeddings beforehand and pass those to BERTopic. "
   ]
  },
  {
   "cell_type": "markdown",
   "metadata": {
    "id": "ZOhlHj4SGush"
   },
   "source": [
    "## **OCTIS**\n",
    "Here, we can run the experiments for NMF and LDA. "
   ]
  },
  {
   "cell_type": "markdown",
   "metadata": {
    "id": "Hu1kVxBhA4iY"
   },
   "source": [
    "#### NMF"
   ]
  },
  {
   "cell_type": "code",
   "execution_count": null,
   "metadata": {
    "id": "AOZl2Xoed_3a"
   },
   "outputs": [],
   "source": [
    "for i, random_state in enumerate([0, 21, 42]):\n",
    "    dataset, custom = \"trump\", True\n",
    "    params = {\"num_topics\": [(i+1)*10 for i in range(5)], \"random_state\": random_state}\n",
    "\n",
    "    trainer = Trainer(dataset=dataset,\n",
    "                      model_name=\"NMF\",\n",
    "                      params=params,\n",
    "                      custom_dataset=custom,\n",
    "                      verbose=True)\n",
    "    results = trainer.train(save=f\"NMF_trump_{i+1}\")"
   ]
  },
  {
   "cell_type": "markdown",
   "metadata": {
    "id": "l8s9zjC5A6JD"
   },
   "source": [
    "#### LDA"
   ]
  },
  {
   "cell_type": "code",
   "execution_count": null,
   "metadata": {
    "id": "uAZ_ckYBeFDY"
   },
   "outputs": [],
   "source": [
    "for i, random_state in enumerate([0, 21, 42]):\n",
    "    dataset, custom = \"trump\", True\n",
    "    params = {\"num_topics\": [(i+1)*10 for i in range(5)], \"random_state\": random_state}\n",
    "\n",
    "    trainer = Trainer(dataset=dataset,\n",
    "                      model_name=\"LDA\",\n",
    "                      params=params,\n",
    "                      custom_dataset=custom,\n",
    "                      verbose=True)\n",
    "    results = trainer.train(save=f\"LDA_trump_{i+1}\")"
   ]
  },
  {
   "cell_type": "markdown",
   "metadata": {
    "id": "ZsRdU70OVsA4"
   },
   "source": [
    "## **CTM**\n",
    "Here, we use de CombinedTM of the Contextualized Topic Models:  https://github.com/MilaNLProc/contextualized-topic-models\n",
    "\n"
   ]
  },
  {
   "cell_type": "code",
   "execution_count": null,
   "metadata": {
    "id": "zPUkcq9hXsV8"
   },
   "outputs": [],
   "source": [
    "for i in range(3):\n",
    "    dataset, custom = \"trump\", True\n",
    "    params = {\n",
    "        \"n_components\": [(i+1)*10 for i in range(5)],\n",
    "        \"contextual_size\":768\n",
    "    }\n",
    "\n",
    "    trainer = Trainer(dataset=dataset,\n",
    "                      model_name=\"CTM_CUSTOM\",\n",
    "                      params=params,\n",
    "                      custom_dataset=custom,\n",
    "                      verbose=True)\n",
    "    results = trainer.train(save=f\"CTM_trump_{i+1}\")"
   ]
  },
  {
   "cell_type": "markdown",
   "metadata": {
    "id": "CGhfpkBZGtRl"
   },
   "source": [
    "## **BERTopic**\n",
    "\n",
    "To speed up BERTopic, we can generate the embeddings before passing it to the `Trainer`. This way, the same embeddings do not have to be generated 5 times which speeds up evaluation quite a bit. "
   ]
  },
  {
   "cell_type": "code",
   "execution_count": 7,
   "metadata": {
    "id": "XhFXGK8oxVpi"
   },
   "outputs": [],
   "source": [
    "from sentence_transformers import SentenceTransformer\n",
    "\n",
    "# Prepare data\n",
    "dataset, custom = \"trump\", True\n",
    "data_loader = DataLoader(dataset)\n",
    "_, timestamps = data_loader.load_docs()\n",
    "data = data_loader.load_octis(custom)\n",
    "data = [\" \".join(words) for words in data.get_corpus()]\n",
    "\n",
    "# Extract embeddings\n",
    "model = SentenceTransformer(\"all-mpnet-base-v2\")\n",
    "#embeddings = model.encode(data, show_progress_bar=True)"
   ]
  },
  {
   "cell_type": "code",
   "execution_count": 11,
   "metadata": {},
   "outputs": [
    {
     "data": {
      "text/plain": [
       "array([[-0.08222876,  0.11256868,  0.00790339, ..., -0.03193728,\n",
       "        -0.04576821,  0.01236695],\n",
       "       [-0.08239552,  0.08159783, -0.02406656, ...,  0.02805473,\n",
       "         0.01256365, -0.05340904],\n",
       "       [-0.00108914,  0.04975026, -0.00386543, ..., -0.02706471,\n",
       "        -0.05756604, -0.03910425],\n",
       "       ...,\n",
       "       [-0.00864482,  0.08018385, -0.00626216, ..., -0.01408317,\n",
       "         0.02967951, -0.02485578],\n",
       "       [-0.07778005,  0.13435726,  0.01918162, ...,  0.03152456,\n",
       "        -0.05900357, -0.04068357],\n",
       "       [-0.04885239,  0.13559426,  0.01654513, ..., -0.00294708,\n",
       "         0.03639316, -0.02585806]], dtype=float32)"
      ]
     },
     "execution_count": 11,
     "metadata": {},
     "output_type": "execute_result"
    }
   ],
   "source": [
    "embeddings"
   ]
  },
  {
   "cell_type": "code",
   "execution_count": 18,
   "metadata": {},
   "outputs": [],
   "source": [
    "import numpy as np\n",
    "\n",
    "np.savetxt('embeddings.txt', embeddings)"
   ]
  },
  {
   "cell_type": "code",
   "execution_count": 9,
   "metadata": {},
   "outputs": [],
   "source": [
    "import numpy as np\n",
    "\n",
    "embeddings = np.loadtxt('embeddings.txt')"
   ]
  },
  {
   "cell_type": "code",
   "execution_count": 20,
   "metadata": {},
   "outputs": [
    {
     "data": {
      "text/plain": [
       "array([[ True,  True,  True, ...,  True,  True,  True],\n",
       "       [ True,  True,  True, ...,  True,  True,  True],\n",
       "       [ True,  True,  True, ...,  True,  True,  True],\n",
       "       ...,\n",
       "       [ True,  True,  True, ...,  True,  True,  True],\n",
       "       [ True,  True,  True, ...,  True,  True,  True],\n",
       "       [ True,  True,  True, ...,  True,  True,  True]])"
      ]
     },
     "execution_count": 20,
     "metadata": {},
     "output_type": "execute_result"
    }
   ],
   "source": [
    "emb == embeddings"
   ]
  },
  {
   "cell_type": "markdown",
   "metadata": {
    "id": "nb1afGtJEuw0"
   },
   "source": [
    "As show above, we load in the `data` which the data loader and combine the tokens in each document to generate our training data. Then, we pass it to the sentence transformer model of our choice and generate the embeddings. \n",
    "\n",
    "Next, we pass these embeddings to the `bt_embeddings` parameter to speed up training: "
   ]
  },
  {
   "cell_type": "code",
   "execution_count": 11,
   "metadata": {
    "id": "II0a3WJP37V0"
   },
   "outputs": [
    {
     "name": "stderr",
     "output_type": "stream",
     "text": [
      "2024-03-02 07:48:24,592 - BERTopic - Dimensionality - Fitting the dimensionality reduction algorithm\n",
      "2024-03-02 07:50:09,649 - BERTopic - Dimensionality - Completed ✓\n",
      "2024-03-02 07:50:09,653 - BERTopic - Cluster - Start clustering the reduced embeddings\n",
      "2024-03-02 07:50:15,642 - BERTopic - Cluster - Completed ✓\n",
      "2024-03-02 07:50:15,644 - BERTopic - Representation - Extracting topics from clusters using representation models.\n",
      "2024-03-02 07:50:18,324 - BERTopic - Representation - Completed ✓\n",
      "2024-03-02 07:50:18,327 - BERTopic - Topic reduction - Reducing number of topics\n",
      "2024-03-02 07:50:23,188 - BERTopic - Topic reduction - Reduced number of topics from 361 to 10\n"
     ]
    },
    {
     "name": "stdout",
     "output_type": "stream",
     "text": [
      "Results\n",
      "============\n",
      "npmi: -0.03392009824000216\n",
      "diversity: 0.7222222222222222\n",
      " \n"
     ]
    },
    {
     "name": "stderr",
     "output_type": "stream",
     "text": [
      "2024-03-02 07:50:50,189 - BERTopic - Dimensionality - Fitting the dimensionality reduction algorithm\n",
      "2024-03-02 07:51:34,392 - BERTopic - Dimensionality - Completed ✓\n",
      "2024-03-02 07:51:34,397 - BERTopic - Cluster - Start clustering the reduced embeddings\n",
      "2024-03-02 07:51:38,562 - BERTopic - Cluster - Completed ✓\n",
      "2024-03-02 07:51:38,565 - BERTopic - Representation - Extracting topics from clusters using representation models.\n",
      "2024-03-02 07:51:41,469 - BERTopic - Representation - Completed ✓\n",
      "2024-03-02 07:51:41,472 - BERTopic - Topic reduction - Reducing number of topics\n",
      "2024-03-02 07:51:43,364 - BERTopic - Topic reduction - Reduced number of topics from 368 to 20\n"
     ]
    },
    {
     "name": "stdout",
     "output_type": "stream",
     "text": [
      "Results\n",
      "============\n",
      "npmi: -0.02181502180785123\n",
      "diversity: 0.6526315789473685\n",
      " \n"
     ]
    },
    {
     "name": "stderr",
     "output_type": "stream",
     "text": [
      "2024-03-02 07:52:05,592 - BERTopic - Dimensionality - Fitting the dimensionality reduction algorithm\n",
      "2024-03-02 07:52:44,973 - BERTopic - Dimensionality - Completed ✓\n",
      "2024-03-02 07:52:44,977 - BERTopic - Cluster - Start clustering the reduced embeddings\n",
      "2024-03-02 07:52:50,944 - BERTopic - Cluster - Completed ✓\n",
      "2024-03-02 07:52:50,948 - BERTopic - Representation - Extracting topics from clusters using representation models.\n",
      "2024-03-02 07:52:54,013 - BERTopic - Representation - Completed ✓\n",
      "2024-03-02 07:52:54,014 - BERTopic - Topic reduction - Reducing number of topics\n",
      "2024-03-02 07:52:57,169 - BERTopic - Topic reduction - Reduced number of topics from 369 to 30\n"
     ]
    },
    {
     "name": "stdout",
     "output_type": "stream",
     "text": [
      "Results\n",
      "============\n",
      "npmi: -0.0328431816148975\n",
      "diversity: 0.7379310344827587\n",
      " \n"
     ]
    },
    {
     "name": "stderr",
     "output_type": "stream",
     "text": [
      "2024-03-02 07:53:15,666 - BERTopic - Dimensionality - Fitting the dimensionality reduction algorithm\n",
      "2024-03-02 07:54:08,385 - BERTopic - Dimensionality - Completed ✓\n",
      "2024-03-02 07:54:08,389 - BERTopic - Cluster - Start clustering the reduced embeddings\n",
      "2024-03-02 07:54:12,360 - BERTopic - Cluster - Completed ✓\n",
      "2024-03-02 07:54:12,363 - BERTopic - Representation - Extracting topics from clusters using representation models.\n",
      "2024-03-02 07:54:15,155 - BERTopic - Representation - Completed ✓\n",
      "2024-03-02 07:54:15,159 - BERTopic - Topic reduction - Reducing number of topics\n",
      "2024-03-02 07:54:17,190 - BERTopic - Topic reduction - Reduced number of topics from 361 to 40\n"
     ]
    },
    {
     "name": "stdout",
     "output_type": "stream",
     "text": [
      "Results\n",
      "============\n",
      "npmi: -0.051527996674931686\n",
      "diversity: 0.7871794871794872\n",
      " \n"
     ]
    },
    {
     "name": "stderr",
     "output_type": "stream",
     "text": [
      "2024-03-02 07:54:36,028 - BERTopic - Dimensionality - Fitting the dimensionality reduction algorithm\n",
      "2024-03-02 07:55:23,239 - BERTopic - Dimensionality - Completed ✓\n",
      "2024-03-02 07:55:23,243 - BERTopic - Cluster - Start clustering the reduced embeddings\n",
      "2024-03-02 07:55:26,952 - BERTopic - Cluster - Completed ✓\n",
      "2024-03-02 07:55:26,956 - BERTopic - Representation - Extracting topics from clusters using representation models.\n",
      "2024-03-02 07:55:29,695 - BERTopic - Representation - Completed ✓\n",
      "2024-03-02 07:55:29,697 - BERTopic - Topic reduction - Reducing number of topics\n",
      "2024-03-02 07:55:30,572 - BERTopic - Topic reduction - Reduced number of topics from 377 to 50\n"
     ]
    },
    {
     "name": "stdout",
     "output_type": "stream",
     "text": [
      "Results\n",
      "============\n",
      "npmi: -0.051008412539625125\n",
      "diversity: 0.7775510204081633\n",
      " \n"
     ]
    },
    {
     "name": "stderr",
     "output_type": "stream",
     "text": [
      "2024-03-02 07:55:48,693 - BERTopic - Dimensionality - Fitting the dimensionality reduction algorithm\n",
      "2024-03-02 07:56:37,873 - BERTopic - Dimensionality - Completed ✓\n",
      "2024-03-02 07:56:37,878 - BERTopic - Cluster - Start clustering the reduced embeddings\n",
      "2024-03-02 07:56:41,435 - BERTopic - Cluster - Completed ✓\n",
      "2024-03-02 07:56:41,437 - BERTopic - Representation - Extracting topics from clusters using representation models.\n",
      "2024-03-02 07:56:44,090 - BERTopic - Representation - Completed ✓\n",
      "2024-03-02 07:56:44,094 - BERTopic - Topic reduction - Reducing number of topics\n",
      "2024-03-02 07:56:46,047 - BERTopic - Topic reduction - Reduced number of topics from 377 to 10\n"
     ]
    },
    {
     "name": "stdout",
     "output_type": "stream",
     "text": [
      "Results\n",
      "============\n",
      "npmi: -0.05021026583856198\n",
      "diversity: 0.6444444444444445\n",
      " \n"
     ]
    },
    {
     "name": "stderr",
     "output_type": "stream",
     "text": [
      "2024-03-02 07:57:05,724 - BERTopic - Dimensionality - Fitting the dimensionality reduction algorithm\n",
      "2024-03-02 07:57:57,416 - BERTopic - Dimensionality - Completed ✓\n",
      "2024-03-02 07:57:57,424 - BERTopic - Cluster - Start clustering the reduced embeddings\n",
      "2024-03-02 07:58:01,065 - BERTopic - Cluster - Completed ✓\n",
      "2024-03-02 07:58:01,070 - BERTopic - Representation - Extracting topics from clusters using representation models.\n",
      "2024-03-02 07:58:03,751 - BERTopic - Representation - Completed ✓\n",
      "2024-03-02 07:58:03,755 - BERTopic - Topic reduction - Reducing number of topics\n",
      "2024-03-02 07:58:05,809 - BERTopic - Topic reduction - Reduced number of topics from 375 to 20\n"
     ]
    },
    {
     "name": "stdout",
     "output_type": "stream",
     "text": [
      "Results\n",
      "============\n",
      "npmi: -0.04133017145078854\n",
      "diversity: 0.7315789473684211\n",
      " \n"
     ]
    },
    {
     "name": "stderr",
     "output_type": "stream",
     "text": [
      "2024-03-02 07:58:22,202 - BERTopic - Dimensionality - Fitting the dimensionality reduction algorithm\n",
      "2024-03-02 07:59:11,452 - BERTopic - Dimensionality - Completed ✓\n",
      "2024-03-02 07:59:11,457 - BERTopic - Cluster - Start clustering the reduced embeddings\n",
      "2024-03-02 07:59:15,289 - BERTopic - Cluster - Completed ✓\n",
      "2024-03-02 07:59:15,292 - BERTopic - Representation - Extracting topics from clusters using representation models.\n",
      "2024-03-02 07:59:18,308 - BERTopic - Representation - Completed ✓\n",
      "2024-03-02 07:59:18,312 - BERTopic - Topic reduction - Reducing number of topics\n",
      "2024-03-02 07:59:20,669 - BERTopic - Topic reduction - Reduced number of topics from 387 to 30\n"
     ]
    },
    {
     "name": "stdout",
     "output_type": "stream",
     "text": [
      "Results\n",
      "============\n",
      "npmi: -0.055816161361617656\n",
      "diversity: 0.7413793103448276\n",
      " \n"
     ]
    },
    {
     "name": "stderr",
     "output_type": "stream",
     "text": [
      "2024-03-02 07:59:35,927 - BERTopic - Dimensionality - Fitting the dimensionality reduction algorithm\n",
      "2024-03-02 08:00:24,215 - BERTopic - Dimensionality - Completed ✓\n",
      "2024-03-02 08:00:24,219 - BERTopic - Cluster - Start clustering the reduced embeddings\n",
      "2024-03-02 08:00:27,767 - BERTopic - Cluster - Completed ✓\n",
      "2024-03-02 08:00:27,771 - BERTopic - Representation - Extracting topics from clusters using representation models.\n",
      "2024-03-02 08:00:30,528 - BERTopic - Representation - Completed ✓\n",
      "2024-03-02 08:00:30,530 - BERTopic - Topic reduction - Reducing number of topics\n",
      "2024-03-02 08:00:32,562 - BERTopic - Topic reduction - Reduced number of topics from 369 to 40\n"
     ]
    },
    {
     "name": "stdout",
     "output_type": "stream",
     "text": [
      "Results\n",
      "============\n",
      "npmi: -0.05294326041396207\n",
      "diversity: 0.764102564102564\n",
      " \n"
     ]
    },
    {
     "name": "stderr",
     "output_type": "stream",
     "text": [
      "2024-03-02 08:00:53,202 - BERTopic - Dimensionality - Fitting the dimensionality reduction algorithm\n",
      "2024-03-02 08:01:36,359 - BERTopic - Dimensionality - Completed ✓\n",
      "2024-03-02 08:01:36,362 - BERTopic - Cluster - Start clustering the reduced embeddings\n",
      "2024-03-02 08:01:39,962 - BERTopic - Cluster - Completed ✓\n",
      "2024-03-02 08:01:39,965 - BERTopic - Representation - Extracting topics from clusters using representation models.\n",
      "2024-03-02 08:01:42,351 - BERTopic - Representation - Completed ✓\n",
      "2024-03-02 08:01:42,354 - BERTopic - Topic reduction - Reducing number of topics\n",
      "2024-03-02 08:01:44,307 - BERTopic - Topic reduction - Reduced number of topics from 363 to 50\n"
     ]
    },
    {
     "name": "stdout",
     "output_type": "stream",
     "text": [
      "Results\n",
      "============\n",
      "npmi: -0.05041460706733475\n",
      "diversity: 0.7877551020408163\n",
      " \n"
     ]
    },
    {
     "name": "stderr",
     "output_type": "stream",
     "text": [
      "2024-03-02 08:02:05,899 - BERTopic - Dimensionality - Fitting the dimensionality reduction algorithm\n",
      "2024-03-02 08:02:43,593 - BERTopic - Dimensionality - Completed ✓\n",
      "2024-03-02 08:02:43,599 - BERTopic - Cluster - Start clustering the reduced embeddings\n",
      "2024-03-02 08:02:47,587 - BERTopic - Cluster - Completed ✓\n",
      "2024-03-02 08:02:47,590 - BERTopic - Representation - Extracting topics from clusters using representation models.\n",
      "2024-03-02 08:02:49,968 - BERTopic - Representation - Completed ✓\n",
      "2024-03-02 08:02:49,970 - BERTopic - Topic reduction - Reducing number of topics\n",
      "2024-03-02 08:02:51,890 - BERTopic - Topic reduction - Reduced number of topics from 375 to 10\n"
     ]
    },
    {
     "name": "stdout",
     "output_type": "stream",
     "text": [
      "Results\n",
      "============\n",
      "npmi: -0.06607205171200663\n",
      "diversity: 0.7111111111111111\n",
      " \n"
     ]
    },
    {
     "name": "stderr",
     "output_type": "stream",
     "text": [
      "2024-03-02 08:03:07,433 - BERTopic - Dimensionality - Fitting the dimensionality reduction algorithm\n",
      "2024-03-02 08:03:47,070 - BERTopic - Dimensionality - Completed ✓\n",
      "2024-03-02 08:03:47,074 - BERTopic - Cluster - Start clustering the reduced embeddings\n",
      "2024-03-02 08:03:51,370 - BERTopic - Cluster - Completed ✓\n",
      "2024-03-02 08:03:51,372 - BERTopic - Representation - Extracting topics from clusters using representation models.\n",
      "2024-03-02 08:03:54,072 - BERTopic - Representation - Completed ✓\n",
      "2024-03-02 08:03:54,076 - BERTopic - Topic reduction - Reducing number of topics\n",
      "2024-03-02 08:03:55,868 - BERTopic - Topic reduction - Reduced number of topics from 385 to 20\n"
     ]
    },
    {
     "name": "stdout",
     "output_type": "stream",
     "text": [
      "Results\n",
      "============\n",
      "npmi: -0.02909672721177023\n",
      "diversity: 0.7315789473684211\n",
      " \n"
     ]
    },
    {
     "name": "stderr",
     "output_type": "stream",
     "text": [
      "2024-03-02 08:04:13,150 - BERTopic - Dimensionality - Fitting the dimensionality reduction algorithm\n",
      "2024-03-02 08:04:53,536 - BERTopic - Dimensionality - Completed ✓\n",
      "2024-03-02 08:04:53,540 - BERTopic - Cluster - Start clustering the reduced embeddings\n",
      "2024-03-02 08:04:56,919 - BERTopic - Cluster - Completed ✓\n",
      "2024-03-02 08:04:56,921 - BERTopic - Representation - Extracting topics from clusters using representation models.\n",
      "2024-03-02 08:04:59,276 - BERTopic - Representation - Completed ✓\n",
      "2024-03-02 08:04:59,280 - BERTopic - Topic reduction - Reducing number of topics\n",
      "2024-03-02 08:05:01,118 - BERTopic - Topic reduction - Reduced number of topics from 369 to 30\n"
     ]
    },
    {
     "name": "stdout",
     "output_type": "stream",
     "text": [
      "Results\n",
      "============\n",
      "npmi: -0.025580166817726853\n",
      "diversity: 0.7103448275862069\n",
      " \n"
     ]
    },
    {
     "name": "stderr",
     "output_type": "stream",
     "text": [
      "2024-03-02 08:05:19,701 - BERTopic - Dimensionality - Fitting the dimensionality reduction algorithm\n",
      "2024-03-02 08:06:06,763 - BERTopic - Dimensionality - Completed ✓\n",
      "2024-03-02 08:06:06,767 - BERTopic - Cluster - Start clustering the reduced embeddings\n",
      "2024-03-02 08:06:10,352 - BERTopic - Cluster - Completed ✓\n",
      "2024-03-02 08:06:10,354 - BERTopic - Representation - Extracting topics from clusters using representation models.\n",
      "2024-03-02 08:06:12,716 - BERTopic - Representation - Completed ✓\n",
      "2024-03-02 08:06:12,719 - BERTopic - Topic reduction - Reducing number of topics\n",
      "2024-03-02 08:06:15,049 - BERTopic - Topic reduction - Reduced number of topics from 370 to 40\n"
     ]
    },
    {
     "name": "stdout",
     "output_type": "stream",
     "text": [
      "Results\n",
      "============\n",
      "npmi: -0.03748790349412275\n",
      "diversity: 0.7461538461538462\n",
      " \n"
     ]
    },
    {
     "name": "stderr",
     "output_type": "stream",
     "text": [
      "2024-03-02 08:06:34,503 - BERTopic - Dimensionality - Fitting the dimensionality reduction algorithm\n",
      "2024-03-02 08:07:15,686 - BERTopic - Dimensionality - Completed ✓\n",
      "2024-03-02 08:07:15,690 - BERTopic - Cluster - Start clustering the reduced embeddings\n",
      "2024-03-02 08:07:19,395 - BERTopic - Cluster - Completed ✓\n",
      "2024-03-02 08:07:19,398 - BERTopic - Representation - Extracting topics from clusters using representation models.\n",
      "2024-03-02 08:07:21,671 - BERTopic - Representation - Completed ✓\n",
      "2024-03-02 08:07:21,674 - BERTopic - Topic reduction - Reducing number of topics\n",
      "2024-03-02 08:07:23,802 - BERTopic - Topic reduction - Reduced number of topics from 368 to 50\n"
     ]
    },
    {
     "name": "stdout",
     "output_type": "stream",
     "text": [
      "Results\n",
      "============\n",
      "npmi: -0.06506521163328827\n",
      "diversity: 0.7836734693877551\n",
      " \n"
     ]
    }
   ],
   "source": [
    "for i in range(3):\n",
    "    params = {\n",
    "        \"embedding_model\": \"all-mpnet-base-v2\",\n",
    "        \"nr_topics\": [(i+1)*10 for i in range(5)],\n",
    "        \"min_topic_size\": 15,\n",
    "        #\"diversity\": None,\n",
    "        \"verbose\": True\n",
    "    }\n",
    "\n",
    "    trainer = Trainer(dataset=dataset,\n",
    "                      model_name=\"BERTopic\",\n",
    "                      params=params,\n",
    "                      bt_embeddings=embeddings,\n",
    "                      custom_dataset=custom,\n",
    "                      verbose=True)\n",
    "    results = trainer.train(save=f\"BERTopic_trump_{i+1}\")"
   ]
  },
  {
   "cell_type": "markdown",
   "metadata": {
    "id": "xpyBVa1Ka9Hw"
   },
   "source": [
    "## **Top2Vec**\n",
    "Aside from its Doc2Vec backend, we also want to explore its performance using the `\"all-mpnet-base-v2\"` SBERT model as that was used in BERTopic. To do so, we make a very slight change to the core code of Top2Vec, namely replacing all instances of `\"\"distiluse-base-multilingual-cased\"` with `\"all-mpnet-base-v2\"`:"
   ]
  },
  {
   "cell_type": "code",
   "execution_count": 16,
   "metadata": {
    "id": "Pc-PXbV205R3"
   },
   "outputs": [],
   "source": [
    "import logging\n",
    "import numpy as np\n",
    "import pandas as pd\n",
    "from gensim.models.doc2vec import Doc2Vec, TaggedDocument\n",
    "from gensim.utils import simple_preprocess\n",
    "from gensim.parsing.preprocessing import strip_tags\n",
    "import umap\n",
    "import hdbscan\n",
    "from wordcloud import WordCloud\n",
    "import matplotlib.pyplot as plt\n",
    "from joblib import dump, load\n",
    "from sklearn.cluster import dbscan\n",
    "import tempfile\n",
    "from sklearn.feature_extraction.text import CountVectorizer\n",
    "from sklearn.preprocessing import normalize\n",
    "from scipy.special import softmax\n",
    "from top2vec import Top2Vec\n",
    "\n",
    "try:\n",
    "    import hnswlib\n",
    "\n",
    "    _HAVE_HNSWLIB = True\n",
    "except ImportError:\n",
    "    _HAVE_HNSWLIB = False\n",
    "\n",
    "try:\n",
    "    import tensorflow as tf\n",
    "    import tensorflow_hub as hub\n",
    "    import tensorflow_text\n",
    "\n",
    "    _HAVE_TENSORFLOW = True\n",
    "except ImportError:\n",
    "    _HAVE_TENSORFLOW = False\n",
    "\n",
    "try:\n",
    "    from sentence_transformers import SentenceTransformer\n",
    "\n",
    "    _HAVE_TORCH = True\n",
    "except ImportError:\n",
    "    _HAVE_TORCH = False\n",
    "\n",
    "logger = logging.getLogger('top2vec')\n",
    "logger.setLevel(logging.WARNING)\n",
    "sh = logging.StreamHandler()\n",
    "sh.setFormatter(logging.Formatter('%(asctime)s - %(name)s - %(levelname)s - %(message)s'))\n",
    "logger.addHandler(sh)\n",
    "\n",
    "\n",
    "def default_tokenizer(doc):\n",
    "    \"\"\"Tokenize documents for training and remove too long/short words\"\"\"\n",
    "    return simple_preprocess(strip_tags(doc), deacc=True)\n",
    "\n",
    "\n",
    "class Top2VecNew(Top2Vec):\n",
    "    \"\"\"\n",
    "    Top2Vec\n",
    "    Creates jointly embedded topic, document and word vectors.\n",
    "    Parameters\n",
    "    ----------\n",
    "    embedding_model: string\n",
    "        This will determine which model is used to generate the document and\n",
    "        word embeddings. The valid string options are:\n",
    "            * doc2vec\n",
    "            * universal-sentence-encoder\n",
    "            * universal-sentence-encoder-multilingual\n",
    "            * distiluse-base-multilingual-cased\n",
    "        For large data sets and data sets with very unique vocabulary doc2vec\n",
    "        could produce better results. This will train a doc2vec model from\n",
    "        scratch. This method is language agnostic. However multiple languages\n",
    "        will not be aligned.\n",
    "        Using the universal sentence encoder options will be much faster since\n",
    "        those are pre-trained and efficient models. The universal sentence\n",
    "        encoder options are suggested for smaller data sets. They are also\n",
    "        good options for large data sets that are in English or in languages\n",
    "        covered by the multilingual model. It is also suggested for data sets\n",
    "        that are multilingual.\n",
    "        For more information on universal-sentence-encoder visit:\n",
    "        https://tfhub.dev/google/universal-sentence-encoder/4\n",
    "        For more information on universal-sentence-encoder-multilingual visit:\n",
    "        https://tfhub.dev/google/universal-sentence-encoder-multilingual/3\n",
    "        The distiluse-base-multilingual-cased pre-trained sentence transformer\n",
    "        is suggested for multilingual datasets and languages that are not\n",
    "        covered by the multilingual universal sentence encoder. The\n",
    "        transformer is significantly slower than the universal sentence\n",
    "        encoder options.\n",
    "        For more informati ond istiluse-base-multilingual-cased visit:\n",
    "        https://www.sbert.net/docs/pretrained_models.html\n",
    "    embedding_model_path: string (Optional)\n",
    "        Pre-trained embedding models will be downloaded automatically by\n",
    "        default. However they can also be uploaded from a file that is in the\n",
    "        location of embedding_model_path.\n",
    "        Warning: the model at embedding_model_path must match the\n",
    "        embedding_model parameter type.\n",
    "    documents: List of str\n",
    "        Input corpus, should be a list of strings.\n",
    "    min_count: int (Optional, default 50)\n",
    "        Ignores all words with total frequency lower than this. For smaller\n",
    "        corpora a smaller min_count will be necessary.\n",
    "    speed: string (Optional, default 'learn')\n",
    "        This parameter is only used when using doc2vec as embedding_model.\n",
    "        It will determine how fast the model takes to train. The\n",
    "        fast-learn option is the fastest and will generate the lowest quality\n",
    "        vectors. The learn option will learn better quality vectors but take\n",
    "        a longer time to train. The deep-learn option will learn the best\n",
    "        quality vectors but will take significant time to train. The valid\n",
    "        string speed options are:\n",
    "        \n",
    "            * fast-learn\n",
    "            * learn\n",
    "            * deep-learn\n",
    "    use_corpus_file: bool (Optional, default False)\n",
    "        This parameter is only used when using doc2vec as embedding_model.\n",
    "        Setting use_corpus_file to True can sometimes provide speedup for\n",
    "        large datasets when multiple worker threads are available. Documents\n",
    "        are still passed to the model as a list of str, the model will create\n",
    "        a temporary corpus file for training.\n",
    "    document_ids: List of str, int (Optional)\n",
    "        A unique value per document that will be used for referring to\n",
    "        documents in search results. If ids are not given to the model, the\n",
    "        index of each document in the original corpus will become the id.\n",
    "    keep_documents: bool (Optional, default True)\n",
    "        If set to False documents will only be used for training and not saved\n",
    "        as part of the model. This will reduce model size. When using search\n",
    "        functions only document ids will be returned, not the actual\n",
    "        documents.\n",
    "    workers: int (Optional)\n",
    "        The amount of worker threads to be used in training the model. Larger\n",
    "        amount will lead to faster training.\n",
    "    \n",
    "    tokenizer: callable (Optional, default None)\n",
    "        Override the default tokenization method. If None then\n",
    "        gensim.utils.simple_preprocess will be used.\n",
    "    use_embedding_model_tokenizer: bool (Optional, default False)\n",
    "        If using an embedding model other than doc2vec, use the model's\n",
    "        tokenizer for document embedding. If set to True the tokenizer, either\n",
    "        default or passed callable will be used to tokenize the text to\n",
    "        extract the vocabulary for word embedding.\n",
    "    umap_args: dict (Optional, default None)\n",
    "        Pass custom arguments to UMAP.\n",
    "    hdbscan_args: dict (Optional, default None)\n",
    "        Pass custom arguments to HDBSCAN.\n",
    "    \n",
    "    verbose: bool (Optional, default True)\n",
    "        Whether to print status data during training.\n",
    "    \"\"\"\n",
    "\n",
    "    def __init__(self,\n",
    "                 documents,\n",
    "                 min_count=50,\n",
    "                 embedding_model='doc2vec',\n",
    "                 embedding_model_path=None,\n",
    "                 speed='learn',\n",
    "                 use_corpus_file=False,\n",
    "                 document_ids=None,\n",
    "                 keep_documents=True,\n",
    "                 workers=None,\n",
    "                 tokenizer=None,\n",
    "                 use_embedding_model_tokenizer=False,\n",
    "                 umap_args=None,\n",
    "                 hdbscan_args=None,\n",
    "                 verbose=True\n",
    "                 ):\n",
    "\n",
    "        if verbose:\n",
    "            logger.setLevel(logging.DEBUG)\n",
    "            self.verbose = True\n",
    "        else:\n",
    "            logger.setLevel(logging.WARNING)\n",
    "            self.verbose = False\n",
    "\n",
    "        if tokenizer is None:\n",
    "            tokenizer = default_tokenizer\n",
    "\n",
    "        # validate documents\n",
    "        if not (isinstance(documents, list) or isinstance(documents, np.ndarray)):\n",
    "            raise ValueError(\"Documents need to be a list of strings\")\n",
    "        if not all((isinstance(doc, str) or isinstance(doc, np.str_)) for doc in documents):\n",
    "            raise ValueError(\"Documents need to be a list of strings\")\n",
    "        if keep_documents:\n",
    "            self.documents = np.array(documents, dtype=\"object\")\n",
    "        else:\n",
    "            self.documents = None\n",
    "\n",
    "        # validate document ids\n",
    "        if document_ids is not None:\n",
    "            if not (isinstance(document_ids, list) or isinstance(document_ids, np.ndarray)):\n",
    "                raise ValueError(\"Documents ids need to be a list of str or int\")\n",
    "\n",
    "            if len(documents) != len(document_ids):\n",
    "                raise ValueError(\"Document ids need to match number of documents\")\n",
    "            elif len(document_ids) != len(set(document_ids)):\n",
    "                raise ValueError(\"Document ids need to be unique\")\n",
    "\n",
    "            if all((isinstance(doc_id, str) or isinstance(doc_id, np.str_)) for doc_id in document_ids):\n",
    "                self.doc_id_type = np.str_\n",
    "            elif all((isinstance(doc_id, int) or isinstance(doc_id, np.int_)) for doc_id in document_ids):\n",
    "                self.doc_id_type = np.int_\n",
    "            else:\n",
    "                raise ValueError(\"Document ids need to be str or int\")\n",
    "\n",
    "            self.document_ids_provided = True\n",
    "            self.document_ids = np.array(document_ids)\n",
    "            self.doc_id2index = dict(zip(document_ids, list(range(0, len(document_ids)))))\n",
    "        else:\n",
    "            self.document_ids_provided = False\n",
    "            self.document_ids = np.array(range(0, len(documents)))\n",
    "            self.doc_id2index = dict(zip(self.document_ids, list(range(0, len(self.document_ids)))))\n",
    "            self.doc_id_type = np.int_\n",
    "\n",
    "        acceptable_embedding_models = [\"universal-sentence-encoder-multilingual\",\n",
    "                                       \"universal-sentence-encoder\",\n",
    "                                       \"all-mpnet-base-v2\"]\n",
    "\n",
    "        self.embedding_model_path = embedding_model_path\n",
    "\n",
    "        if embedding_model == 'doc2vec':\n",
    "\n",
    "            # validate training inputs\n",
    "            if speed == \"fast-learn\":\n",
    "                hs = 0\n",
    "                negative = 5\n",
    "                epochs = 40\n",
    "            elif speed == \"learn\":\n",
    "                hs = 1\n",
    "                negative = 0\n",
    "                epochs = 40\n",
    "            elif speed == \"deep-learn\":\n",
    "                hs = 1\n",
    "                negative = 0\n",
    "                epochs = 400\n",
    "            elif speed == \"test-learn\":\n",
    "                hs = 0\n",
    "                negative = 5\n",
    "                epochs = 1\n",
    "            else:\n",
    "                raise ValueError(\"speed parameter needs to be one of: fast-learn, learn or deep-learn\")\n",
    "\n",
    "            if workers is None:\n",
    "                pass\n",
    "            elif isinstance(workers, int):\n",
    "                pass\n",
    "            else:\n",
    "                raise ValueError(\"workers needs to be an int\")\n",
    "\n",
    "            doc2vec_args = {\"vector_size\": 300,\n",
    "                            \"min_count\": min_count,\n",
    "                            \"window\": 15,\n",
    "                            \"sample\": 1e-5,\n",
    "                            \"negative\": negative,\n",
    "                            \"hs\": hs,\n",
    "                            \"epochs\": epochs,\n",
    "                            \"dm\": 0,\n",
    "                            \"dbow_words\": 1}\n",
    "\n",
    "            if workers is not None:\n",
    "                doc2vec_args[\"workers\"] = workers\n",
    "\n",
    "            logger.info('Pre-processing documents for training')\n",
    "\n",
    "            if use_corpus_file:\n",
    "                processed = [' '.join(tokenizer(doc)) for doc in documents]\n",
    "                lines = \"\\n\".join(processed)\n",
    "                temp = tempfile.NamedTemporaryFile(mode='w+t')\n",
    "                temp.write(lines)\n",
    "                doc2vec_args[\"corpus_file\"] = temp.name\n",
    "\n",
    "\n",
    "            else:\n",
    "                train_corpus = [TaggedDocument(tokenizer(doc), [i]) for i, doc in enumerate(documents)]\n",
    "                doc2vec_args[\"documents\"] = train_corpus\n",
    "\n",
    "            logger.info('Creating joint document/word embedding')\n",
    "            self.embedding_model = 'doc2vec'\n",
    "            self.model = Doc2Vec(**doc2vec_args)\n",
    "\n",
    "            if use_corpus_file:\n",
    "                temp.close()\n",
    "\n",
    "        elif embedding_model in acceptable_embedding_models:\n",
    "\n",
    "            self.embed = None\n",
    "            self.embedding_model = embedding_model\n",
    "\n",
    "            self._check_import_status()\n",
    "\n",
    "            logger.info('Pre-processing documents for training')\n",
    "\n",
    "            # preprocess documents\n",
    "            tokenized_corpus = [tokenizer(doc) for doc in documents]\n",
    "\n",
    "            def return_doc(doc):\n",
    "                return doc\n",
    "\n",
    "            # preprocess vocabulary\n",
    "            vectorizer = CountVectorizer(tokenizer=return_doc, preprocessor=return_doc)\n",
    "            doc_word_counts = vectorizer.fit_transform(tokenized_corpus)\n",
    "            words = vectorizer.get_feature_names()\n",
    "            word_counts = np.array(np.sum(doc_word_counts, axis=0).tolist()[0])\n",
    "            vocab_inds = np.where(word_counts > min_count)[0]\n",
    "\n",
    "            if len(vocab_inds) == 0:\n",
    "                raise ValueError(f\"A min_count of {min_count} results in \"\n",
    "                                 f\"all words being ignored, choose a lower value.\")\n",
    "            self.vocab = [words[ind] for ind in vocab_inds]\n",
    "\n",
    "            self._check_model_status()\n",
    "\n",
    "            logger.info('Creating joint document/word embedding')\n",
    "\n",
    "            # embed words\n",
    "            self.word_indexes = dict(zip(self.vocab, range(len(self.vocab))))\n",
    "            self.word_vectors = self._l2_normalize(np.array(self.embed(self.vocab)))\n",
    "\n",
    "            # embed documents\n",
    "            if use_embedding_model_tokenizer:\n",
    "                self.document_vectors = self._embed_documents(documents)\n",
    "            else:\n",
    "                train_corpus = [' '.join(tokens) for tokens in tokenized_corpus]\n",
    "                self.document_vectors = self._embed_documents(train_corpus)\n",
    "\n",
    "        else:\n",
    "            raise ValueError(f\"{embedding_model} is an invalid embedding model.\")\n",
    "\n",
    "        # create 5D embeddings of documents\n",
    "        logger.info('Creating lower dimension embedding of documents')\n",
    "\n",
    "        if umap_args is None:\n",
    "            umap_args = {'n_neighbors': 15,\n",
    "                         'n_components': 5,\n",
    "                         'metric': 'cosine'}\n",
    "\n",
    "        umap_model = umap.UMAP(**umap_args).fit(self._get_document_vectors(norm=False))\n",
    "\n",
    "        # find dense areas of document vectors\n",
    "        logger.info('Finding dense areas of documents')\n",
    "\n",
    "        if hdbscan_args is None:\n",
    "            hdbscan_args = {'min_cluster_size': 15,\n",
    "                            'metric': 'euclidean',\n",
    "                            'cluster_selection_method': 'eom'}\n",
    "\n",
    "        cluster = hdbscan.HDBSCAN(**hdbscan_args).fit(umap_model.embedding_)\n",
    "\n",
    "        # calculate topic vectors from dense areas of documents\n",
    "        logger.info('Finding topics')\n",
    "\n",
    "        # create topic vectors\n",
    "        self._create_topic_vectors(cluster.labels_)\n",
    "\n",
    "        # deduplicate topics\n",
    "        self._deduplicate_topics()\n",
    "\n",
    "        # find topic words and scores\n",
    "        self.topic_words, self.topic_word_scores = self._find_topic_words_and_scores(topic_vectors=self.topic_vectors)\n",
    "\n",
    "        # assign documents to topic\n",
    "        self.doc_top, self.doc_dist = self._calculate_documents_topic(self.topic_vectors,\n",
    "                                                                      self._get_document_vectors())\n",
    "\n",
    "        # calculate topic sizes\n",
    "        self.topic_sizes = self._calculate_topic_sizes(hierarchy=False)\n",
    "\n",
    "        # re-order topics\n",
    "        self._reorder_topics(hierarchy=False)\n",
    "\n",
    "        # initialize variables for hierarchical topic reduction\n",
    "        self.topic_vectors_reduced = None\n",
    "        self.doc_top_reduced = None\n",
    "        self.doc_dist_reduced = None\n",
    "        self.topic_sizes_reduced = None\n",
    "        self.topic_words_reduced = None\n",
    "        self.topic_word_scores_reduced = None\n",
    "        self.hierarchy = None\n",
    "\n",
    "        # initialize document indexing variables\n",
    "        self.document_index = None\n",
    "        self.serialized_document_index = None\n",
    "        self.documents_indexed = False\n",
    "        self.index_id2doc_id = None\n",
    "        self.doc_id2index_id = None\n",
    "\n",
    "        # initialize word indexing variables\n",
    "        self.word_index = None\n",
    "        self.serialized_word_index = None\n",
    "        self.words_indexed = False\n",
    "\n",
    "    def _check_import_status(self):\n",
    "        if self.embedding_model != 'all-mpnet-base-v2':\n",
    "            if not _HAVE_TENSORFLOW:\n",
    "                raise ImportError(f\"{self.embedding_model} is not available.\\n\\n\"\n",
    "                                  \"Try: pip install top2vec[sentence_encoders]\\n\\n\"\n",
    "                                  \"Alternatively try: pip install tensorflow tensorflow_hub tensorflow_text\")\n",
    "        else:\n",
    "            if not _HAVE_TORCH:\n",
    "                raise ImportError(f\"{self.embedding_model} is not available.\\n\\n\"\n",
    "                                  \"Try: pip install top2vec[sentence_transformers]\\n\\n\"\n",
    "                                  \"Alternatively try: pip install torch sentence_transformers\")\n",
    "\n",
    "    def _check_model_status(self):\n",
    "        if self.embed is None:\n",
    "            if self.verbose is False:\n",
    "                logger.setLevel(logging.DEBUG)\n",
    "\n",
    "            if self.embedding_model != \"all-mpnet-base-v2\":\n",
    "                if self.embedding_model_path is None:\n",
    "                    logger.info(f'Downloading {self.embedding_model} model')\n",
    "                    if self.embedding_model == \"universal-sentence-encoder-multilingual\":\n",
    "                        module = \"https://tfhub.dev/google/universal-sentence-encoder-multilingual/3\"\n",
    "                    else:\n",
    "                        module = \"https://tfhub.dev/google/universal-sentence-encoder/4\"\n",
    "                else:\n",
    "                    logger.info(f'Loading {self.embedding_model} model at {self.embedding_model_path}')\n",
    "                    module = self.embedding_model_path\n",
    "                self.embed = hub.load(module)\n",
    "\n",
    "            else:\n",
    "                if self.embedding_model_path is None:\n",
    "                    logger.info(f'Downloading {self.embedding_model} model')\n",
    "                    module = 'all-mpnet-base-v2'\n",
    "                else:\n",
    "                    logger.info(f'Loading {self.embedding_model} model at {self.embedding_model_path}')\n",
    "                    module = self.embedding_model_path\n",
    "                model = SentenceTransformer(module)\n",
    "                self.embed = model.encode\n",
    "\n",
    "        if self.verbose is False:\n",
    "            logger.setLevel(logging.WARNING)"
   ]
  },
  {
   "cell_type": "markdown",
   "metadata": {
    "id": "Oz16gmSjHcs6"
   },
   "source": [
    "We can then use this `Top2VecNew` class to run our experiments including the `\"all-mpnet-base-v2\"` model. "
   ]
  },
  {
   "cell_type": "code",
   "execution_count": 17,
   "metadata": {
    "id": "NdPp3Xsda_SJ"
   },
   "outputs": [
    {
     "name": "stderr",
     "output_type": "stream",
     "text": [
      "2024-03-02 08:40:21,641 - top2vec - INFO - Pre-processing documents for training\n",
      "2024-03-02 08:40:21,641 - top2vec - INFO - Pre-processing documents for training\n",
      "2024-03-02 08:40:21,641 - top2vec - INFO - Pre-processing documents for training\n",
      "2024-03-02 08:40:21,641 - top2vec - INFO - Pre-processing documents for training\n",
      "2024-03-02 08:40:26,673 - top2vec - INFO - Creating joint document/word embedding\n",
      "2024-03-02 08:40:26,673 - top2vec - INFO - Creating joint document/word embedding\n",
      "2024-03-02 08:40:26,673 - top2vec - INFO - Creating joint document/word embedding\n",
      "2024-03-02 08:40:26,673 - top2vec - INFO - Creating joint document/word embedding\n",
      "2024-03-02 08:50:59,218 - top2vec - INFO - Creating lower dimension embedding of documents\n",
      "2024-03-02 08:50:59,218 - top2vec - INFO - Creating lower dimension embedding of documents\n",
      "2024-03-02 08:50:59,218 - top2vec - INFO - Creating lower dimension embedding of documents\n",
      "2024-03-02 08:50:59,218 - top2vec - INFO - Creating lower dimension embedding of documents\n",
      "2024-03-02 08:51:27,678 - top2vec - INFO - Finding dense areas of documents\n",
      "2024-03-02 08:51:27,678 - top2vec - INFO - Finding dense areas of documents\n",
      "2024-03-02 08:51:27,678 - top2vec - INFO - Finding dense areas of documents\n",
      "2024-03-02 08:51:27,678 - top2vec - INFO - Finding dense areas of documents\n",
      "2024-03-02 08:51:32,390 - top2vec - INFO - Finding topics\n",
      "2024-03-02 08:51:32,390 - top2vec - INFO - Finding topics\n",
      "2024-03-02 08:51:32,390 - top2vec - INFO - Finding topics\n",
      "2024-03-02 08:51:32,390 - top2vec - INFO - Finding topics\n",
      "2024-03-02 08:52:36,942 - top2vec - INFO - Pre-processing documents for training\n",
      "2024-03-02 08:52:36,942 - top2vec - INFO - Pre-processing documents for training\n",
      "2024-03-02 08:52:36,942 - top2vec - INFO - Pre-processing documents for training\n",
      "2024-03-02 08:52:36,942 - top2vec - INFO - Pre-processing documents for training\n"
     ]
    },
    {
     "name": "stdout",
     "output_type": "stream",
     "text": [
      "Results\n",
      "============\n",
      "npmi: -0.0600694504930151\n",
      "diversity: 0.67\n",
      " \n"
     ]
    },
    {
     "name": "stderr",
     "output_type": "stream",
     "text": [
      "2024-03-02 08:52:39,901 - top2vec - INFO - Creating joint document/word embedding\n",
      "2024-03-02 08:52:39,901 - top2vec - INFO - Creating joint document/word embedding\n",
      "2024-03-02 08:52:39,901 - top2vec - INFO - Creating joint document/word embedding\n",
      "2024-03-02 08:52:39,901 - top2vec - INFO - Creating joint document/word embedding\n",
      "2024-03-02 09:03:41,148 - top2vec - INFO - Creating lower dimension embedding of documents\n",
      "2024-03-02 09:03:41,148 - top2vec - INFO - Creating lower dimension embedding of documents\n",
      "2024-03-02 09:03:41,148 - top2vec - INFO - Creating lower dimension embedding of documents\n",
      "2024-03-02 09:03:41,148 - top2vec - INFO - Creating lower dimension embedding of documents\n",
      "2024-03-02 09:04:07,086 - top2vec - INFO - Finding dense areas of documents\n",
      "2024-03-02 09:04:07,086 - top2vec - INFO - Finding dense areas of documents\n",
      "2024-03-02 09:04:07,086 - top2vec - INFO - Finding dense areas of documents\n",
      "2024-03-02 09:04:07,086 - top2vec - INFO - Finding dense areas of documents\n",
      "2024-03-02 09:04:11,018 - top2vec - INFO - Finding topics\n",
      "2024-03-02 09:04:11,018 - top2vec - INFO - Finding topics\n",
      "2024-03-02 09:04:11,018 - top2vec - INFO - Finding topics\n",
      "2024-03-02 09:04:11,018 - top2vec - INFO - Finding topics\n",
      "2024-03-02 09:05:04,224 - top2vec - INFO - Pre-processing documents for training\n",
      "2024-03-02 09:05:04,224 - top2vec - INFO - Pre-processing documents for training\n",
      "2024-03-02 09:05:04,224 - top2vec - INFO - Pre-processing documents for training\n",
      "2024-03-02 09:05:04,224 - top2vec - INFO - Pre-processing documents for training\n"
     ]
    },
    {
     "name": "stdout",
     "output_type": "stream",
     "text": [
      "Results\n",
      "============\n",
      "npmi: -0.14300925220023858\n",
      "diversity: 0.68\n",
      " \n"
     ]
    },
    {
     "name": "stderr",
     "output_type": "stream",
     "text": [
      "2024-03-02 09:05:06,822 - top2vec - INFO - Creating joint document/word embedding\n",
      "2024-03-02 09:05:06,822 - top2vec - INFO - Creating joint document/word embedding\n",
      "2024-03-02 09:05:06,822 - top2vec - INFO - Creating joint document/word embedding\n",
      "2024-03-02 09:05:06,822 - top2vec - INFO - Creating joint document/word embedding\n",
      "2024-03-02 09:15:29,531 - top2vec - INFO - Creating lower dimension embedding of documents\n",
      "2024-03-02 09:15:29,531 - top2vec - INFO - Creating lower dimension embedding of documents\n",
      "2024-03-02 09:15:29,531 - top2vec - INFO - Creating lower dimension embedding of documents\n",
      "2024-03-02 09:15:29,531 - top2vec - INFO - Creating lower dimension embedding of documents\n",
      "2024-03-02 09:15:57,270 - top2vec - INFO - Finding dense areas of documents\n",
      "2024-03-02 09:15:57,270 - top2vec - INFO - Finding dense areas of documents\n",
      "2024-03-02 09:15:57,270 - top2vec - INFO - Finding dense areas of documents\n",
      "2024-03-02 09:15:57,270 - top2vec - INFO - Finding dense areas of documents\n",
      "2024-03-02 09:15:59,022 - top2vec - INFO - Finding topics\n",
      "2024-03-02 09:15:59,022 - top2vec - INFO - Finding topics\n",
      "2024-03-02 09:15:59,022 - top2vec - INFO - Finding topics\n",
      "2024-03-02 09:15:59,022 - top2vec - INFO - Finding topics\n",
      "2024-03-02 09:16:37,252 - top2vec - INFO - Pre-processing documents for training\n",
      "2024-03-02 09:16:37,252 - top2vec - INFO - Pre-processing documents for training\n",
      "2024-03-02 09:16:37,252 - top2vec - INFO - Pre-processing documents for training\n",
      "2024-03-02 09:16:37,252 - top2vec - INFO - Pre-processing documents for training\n"
     ]
    },
    {
     "name": "stdout",
     "output_type": "stream",
     "text": [
      "Results\n",
      "============\n",
      "npmi: -0.16793170355643666\n",
      "diversity: 0.6633333333333333\n",
      " \n"
     ]
    },
    {
     "name": "stderr",
     "output_type": "stream",
     "text": [
      "2024-03-02 09:16:41,441 - top2vec - INFO - Creating joint document/word embedding\n",
      "2024-03-02 09:16:41,441 - top2vec - INFO - Creating joint document/word embedding\n",
      "2024-03-02 09:16:41,441 - top2vec - INFO - Creating joint document/word embedding\n",
      "2024-03-02 09:16:41,441 - top2vec - INFO - Creating joint document/word embedding\n",
      "2024-03-02 09:26:01,933 - top2vec - INFO - Creating lower dimension embedding of documents\n",
      "2024-03-02 09:26:01,933 - top2vec - INFO - Creating lower dimension embedding of documents\n",
      "2024-03-02 09:26:01,933 - top2vec - INFO - Creating lower dimension embedding of documents\n",
      "2024-03-02 09:26:01,933 - top2vec - INFO - Creating lower dimension embedding of documents\n",
      "2024-03-02 09:26:25,138 - top2vec - INFO - Finding dense areas of documents\n",
      "2024-03-02 09:26:25,138 - top2vec - INFO - Finding dense areas of documents\n",
      "2024-03-02 09:26:25,138 - top2vec - INFO - Finding dense areas of documents\n",
      "2024-03-02 09:26:25,138 - top2vec - INFO - Finding dense areas of documents\n",
      "2024-03-02 09:26:28,446 - top2vec - INFO - Finding topics\n",
      "2024-03-02 09:26:28,446 - top2vec - INFO - Finding topics\n",
      "2024-03-02 09:26:28,446 - top2vec - INFO - Finding topics\n",
      "2024-03-02 09:26:28,446 - top2vec - INFO - Finding topics\n",
      "2024-03-02 09:27:16,676 - top2vec - INFO - Pre-processing documents for training\n",
      "2024-03-02 09:27:16,676 - top2vec - INFO - Pre-processing documents for training\n",
      "2024-03-02 09:27:16,676 - top2vec - INFO - Pre-processing documents for training\n",
      "2024-03-02 09:27:16,676 - top2vec - INFO - Pre-processing documents for training\n"
     ]
    },
    {
     "name": "stdout",
     "output_type": "stream",
     "text": [
      "Results\n",
      "============\n",
      "npmi: -0.1705080606588106\n",
      "diversity: 0.64\n",
      " \n"
     ]
    },
    {
     "name": "stderr",
     "output_type": "stream",
     "text": [
      "2024-03-02 09:27:20,366 - top2vec - INFO - Creating joint document/word embedding\n",
      "2024-03-02 09:27:20,366 - top2vec - INFO - Creating joint document/word embedding\n",
      "2024-03-02 09:27:20,366 - top2vec - INFO - Creating joint document/word embedding\n",
      "2024-03-02 09:27:20,366 - top2vec - INFO - Creating joint document/word embedding\n",
      "2024-03-02 09:35:30,678 - top2vec - INFO - Creating lower dimension embedding of documents\n",
      "2024-03-02 09:35:30,678 - top2vec - INFO - Creating lower dimension embedding of documents\n",
      "2024-03-02 09:35:30,678 - top2vec - INFO - Creating lower dimension embedding of documents\n",
      "2024-03-02 09:35:30,678 - top2vec - INFO - Creating lower dimension embedding of documents\n",
      "2024-03-02 09:35:53,907 - top2vec - INFO - Finding dense areas of documents\n",
      "2024-03-02 09:35:53,907 - top2vec - INFO - Finding dense areas of documents\n",
      "2024-03-02 09:35:53,907 - top2vec - INFO - Finding dense areas of documents\n",
      "2024-03-02 09:35:53,907 - top2vec - INFO - Finding dense areas of documents\n",
      "2024-03-02 09:35:56,554 - top2vec - INFO - Finding topics\n",
      "2024-03-02 09:35:56,554 - top2vec - INFO - Finding topics\n",
      "2024-03-02 09:35:56,554 - top2vec - INFO - Finding topics\n",
      "2024-03-02 09:35:56,554 - top2vec - INFO - Finding topics\n"
     ]
    },
    {
     "name": "stdout",
     "output_type": "stream",
     "text": [
      "Results\n",
      "============\n",
      "npmi: -0.18958192419084574\n",
      "diversity: 0.656\n",
      " \n"
     ]
    },
    {
     "name": "stderr",
     "output_type": "stream",
     "text": [
      "2024-03-02 09:36:37,948 - top2vec - INFO - Pre-processing documents for training\n",
      "2024-03-02 09:36:37,948 - top2vec - INFO - Pre-processing documents for training\n",
      "2024-03-02 09:36:37,948 - top2vec - INFO - Pre-processing documents for training\n",
      "2024-03-02 09:36:37,948 - top2vec - INFO - Pre-processing documents for training\n",
      "2024-03-02 09:36:39,612 - top2vec - INFO - Creating joint document/word embedding\n",
      "2024-03-02 09:36:39,612 - top2vec - INFO - Creating joint document/word embedding\n",
      "2024-03-02 09:36:39,612 - top2vec - INFO - Creating joint document/word embedding\n",
      "2024-03-02 09:36:39,612 - top2vec - INFO - Creating joint document/word embedding\n",
      "2024-03-02 09:42:48,562 - top2vec - INFO - Creating lower dimension embedding of documents\n",
      "2024-03-02 09:42:48,562 - top2vec - INFO - Creating lower dimension embedding of documents\n",
      "2024-03-02 09:42:48,562 - top2vec - INFO - Creating lower dimension embedding of documents\n",
      "2024-03-02 09:42:48,562 - top2vec - INFO - Creating lower dimension embedding of documents\n",
      "2024-03-02 09:43:14,990 - top2vec - INFO - Finding dense areas of documents\n",
      "2024-03-02 09:43:14,990 - top2vec - INFO - Finding dense areas of documents\n",
      "2024-03-02 09:43:14,990 - top2vec - INFO - Finding dense areas of documents\n",
      "2024-03-02 09:43:14,990 - top2vec - INFO - Finding dense areas of documents\n",
      "2024-03-02 09:43:17,769 - top2vec - INFO - Finding topics\n",
      "2024-03-02 09:43:17,769 - top2vec - INFO - Finding topics\n",
      "2024-03-02 09:43:17,769 - top2vec - INFO - Finding topics\n",
      "2024-03-02 09:43:17,769 - top2vec - INFO - Finding topics\n",
      "2024-03-02 09:44:11,660 - top2vec - INFO - Pre-processing documents for training\n",
      "2024-03-02 09:44:11,660 - top2vec - INFO - Pre-processing documents for training\n",
      "2024-03-02 09:44:11,660 - top2vec - INFO - Pre-processing documents for training\n",
      "2024-03-02 09:44:11,660 - top2vec - INFO - Pre-processing documents for training\n"
     ]
    },
    {
     "name": "stdout",
     "output_type": "stream",
     "text": [
      "Results\n",
      "============\n",
      "npmi: -0.08125228999729311\n",
      "diversity: 0.64\n",
      " \n"
     ]
    },
    {
     "name": "stderr",
     "output_type": "stream",
     "text": [
      "2024-03-02 09:44:13,364 - top2vec - INFO - Creating joint document/word embedding\n",
      "2024-03-02 09:44:13,364 - top2vec - INFO - Creating joint document/word embedding\n",
      "2024-03-02 09:44:13,364 - top2vec - INFO - Creating joint document/word embedding\n",
      "2024-03-02 09:44:13,364 - top2vec - INFO - Creating joint document/word embedding\n",
      "2024-03-02 09:50:30,802 - top2vec - INFO - Creating lower dimension embedding of documents\n",
      "2024-03-02 09:50:30,802 - top2vec - INFO - Creating lower dimension embedding of documents\n",
      "2024-03-02 09:50:30,802 - top2vec - INFO - Creating lower dimension embedding of documents\n",
      "2024-03-02 09:50:30,802 - top2vec - INFO - Creating lower dimension embedding of documents\n",
      "2024-03-02 09:50:54,701 - top2vec - INFO - Finding dense areas of documents\n",
      "2024-03-02 09:50:54,701 - top2vec - INFO - Finding dense areas of documents\n",
      "2024-03-02 09:50:54,701 - top2vec - INFO - Finding dense areas of documents\n",
      "2024-03-02 09:50:54,701 - top2vec - INFO - Finding dense areas of documents\n",
      "2024-03-02 09:50:57,412 - top2vec - INFO - Finding topics\n",
      "2024-03-02 09:50:57,412 - top2vec - INFO - Finding topics\n",
      "2024-03-02 09:50:57,412 - top2vec - INFO - Finding topics\n",
      "2024-03-02 09:50:57,412 - top2vec - INFO - Finding topics\n",
      "2024-03-02 09:51:50,722 - top2vec - INFO - Pre-processing documents for training\n",
      "2024-03-02 09:51:50,722 - top2vec - INFO - Pre-processing documents for training\n",
      "2024-03-02 09:51:50,722 - top2vec - INFO - Pre-processing documents for training\n",
      "2024-03-02 09:51:50,722 - top2vec - INFO - Pre-processing documents for training\n"
     ]
    },
    {
     "name": "stdout",
     "output_type": "stream",
     "text": [
      "Results\n",
      "============\n",
      "npmi: -0.13470369930046086\n",
      "diversity: 0.705\n",
      " \n"
     ]
    },
    {
     "name": "stderr",
     "output_type": "stream",
     "text": [
      "2024-03-02 09:51:53,721 - top2vec - INFO - Creating joint document/word embedding\n",
      "2024-03-02 09:51:53,721 - top2vec - INFO - Creating joint document/word embedding\n",
      "2024-03-02 09:51:53,721 - top2vec - INFO - Creating joint document/word embedding\n",
      "2024-03-02 09:51:53,721 - top2vec - INFO - Creating joint document/word embedding\n",
      "2024-03-02 09:58:03,608 - top2vec - INFO - Creating lower dimension embedding of documents\n",
      "2024-03-02 09:58:03,608 - top2vec - INFO - Creating lower dimension embedding of documents\n",
      "2024-03-02 09:58:03,608 - top2vec - INFO - Creating lower dimension embedding of documents\n",
      "2024-03-02 09:58:03,608 - top2vec - INFO - Creating lower dimension embedding of documents\n",
      "2024-03-02 09:58:28,579 - top2vec - INFO - Finding dense areas of documents\n",
      "2024-03-02 09:58:28,579 - top2vec - INFO - Finding dense areas of documents\n",
      "2024-03-02 09:58:28,579 - top2vec - INFO - Finding dense areas of documents\n",
      "2024-03-02 09:58:28,579 - top2vec - INFO - Finding dense areas of documents\n",
      "2024-03-02 09:58:31,173 - top2vec - INFO - Finding topics\n",
      "2024-03-02 09:58:31,173 - top2vec - INFO - Finding topics\n",
      "2024-03-02 09:58:31,173 - top2vec - INFO - Finding topics\n",
      "2024-03-02 09:58:31,173 - top2vec - INFO - Finding topics\n",
      "2024-03-02 09:59:20,044 - top2vec - INFO - Pre-processing documents for training\n",
      "2024-03-02 09:59:20,044 - top2vec - INFO - Pre-processing documents for training\n",
      "2024-03-02 09:59:20,044 - top2vec - INFO - Pre-processing documents for training\n",
      "2024-03-02 09:59:20,044 - top2vec - INFO - Pre-processing documents for training\n"
     ]
    },
    {
     "name": "stdout",
     "output_type": "stream",
     "text": [
      "Results\n",
      "============\n",
      "npmi: -0.18560952238846093\n",
      "diversity: 0.7033333333333334\n",
      " \n"
     ]
    },
    {
     "name": "stderr",
     "output_type": "stream",
     "text": [
      "2024-03-02 09:59:22,926 - top2vec - INFO - Creating joint document/word embedding\n",
      "2024-03-02 09:59:22,926 - top2vec - INFO - Creating joint document/word embedding\n",
      "2024-03-02 09:59:22,926 - top2vec - INFO - Creating joint document/word embedding\n",
      "2024-03-02 09:59:22,926 - top2vec - INFO - Creating joint document/word embedding\n",
      "2024-03-02 10:05:36,163 - top2vec - INFO - Creating lower dimension embedding of documents\n",
      "2024-03-02 10:05:36,163 - top2vec - INFO - Creating lower dimension embedding of documents\n",
      "2024-03-02 10:05:36,163 - top2vec - INFO - Creating lower dimension embedding of documents\n",
      "2024-03-02 10:05:36,163 - top2vec - INFO - Creating lower dimension embedding of documents\n",
      "2024-03-02 10:05:58,704 - top2vec - INFO - Finding dense areas of documents\n",
      "2024-03-02 10:05:58,704 - top2vec - INFO - Finding dense areas of documents\n",
      "2024-03-02 10:05:58,704 - top2vec - INFO - Finding dense areas of documents\n",
      "2024-03-02 10:05:58,704 - top2vec - INFO - Finding dense areas of documents\n",
      "2024-03-02 10:06:01,475 - top2vec - INFO - Finding topics\n",
      "2024-03-02 10:06:01,475 - top2vec - INFO - Finding topics\n",
      "2024-03-02 10:06:01,475 - top2vec - INFO - Finding topics\n",
      "2024-03-02 10:06:01,475 - top2vec - INFO - Finding topics\n",
      "2024-03-02 10:06:40,112 - top2vec - INFO - Pre-processing documents for training\n",
      "2024-03-02 10:06:40,112 - top2vec - INFO - Pre-processing documents for training\n",
      "2024-03-02 10:06:40,112 - top2vec - INFO - Pre-processing documents for training\n",
      "2024-03-02 10:06:40,112 - top2vec - INFO - Pre-processing documents for training\n"
     ]
    },
    {
     "name": "stdout",
     "output_type": "stream",
     "text": [
      "Results\n",
      "============\n",
      "npmi: -0.17863973914767226\n",
      "diversity: 0.6675\n",
      " \n"
     ]
    },
    {
     "name": "stderr",
     "output_type": "stream",
     "text": [
      "2024-03-02 10:06:43,288 - top2vec - INFO - Creating joint document/word embedding\n",
      "2024-03-02 10:06:43,288 - top2vec - INFO - Creating joint document/word embedding\n",
      "2024-03-02 10:06:43,288 - top2vec - INFO - Creating joint document/word embedding\n",
      "2024-03-02 10:06:43,288 - top2vec - INFO - Creating joint document/word embedding\n",
      "2024-03-02 10:12:51,450 - top2vec - INFO - Creating lower dimension embedding of documents\n",
      "2024-03-02 10:12:51,450 - top2vec - INFO - Creating lower dimension embedding of documents\n",
      "2024-03-02 10:12:51,450 - top2vec - INFO - Creating lower dimension embedding of documents\n",
      "2024-03-02 10:12:51,450 - top2vec - INFO - Creating lower dimension embedding of documents\n",
      "2024-03-02 10:13:23,974 - top2vec - INFO - Finding dense areas of documents\n",
      "2024-03-02 10:13:23,974 - top2vec - INFO - Finding dense areas of documents\n",
      "2024-03-02 10:13:23,974 - top2vec - INFO - Finding dense areas of documents\n",
      "2024-03-02 10:13:23,974 - top2vec - INFO - Finding dense areas of documents\n",
      "2024-03-02 10:13:26,534 - top2vec - INFO - Finding topics\n",
      "2024-03-02 10:13:26,534 - top2vec - INFO - Finding topics\n",
      "2024-03-02 10:13:26,534 - top2vec - INFO - Finding topics\n",
      "2024-03-02 10:13:26,534 - top2vec - INFO - Finding topics\n"
     ]
    },
    {
     "name": "stdout",
     "output_type": "stream",
     "text": [
      "Results\n",
      "============\n",
      "npmi: -0.183107110110025\n",
      "diversity: 0.678\n",
      " \n"
     ]
    },
    {
     "name": "stderr",
     "output_type": "stream",
     "text": [
      "2024-03-02 10:14:12,297 - top2vec - INFO - Pre-processing documents for training\n",
      "2024-03-02 10:14:12,297 - top2vec - INFO - Pre-processing documents for training\n",
      "2024-03-02 10:14:12,297 - top2vec - INFO - Pre-processing documents for training\n",
      "2024-03-02 10:14:12,297 - top2vec - INFO - Pre-processing documents for training\n",
      "2024-03-02 10:14:15,497 - top2vec - INFO - Creating joint document/word embedding\n",
      "2024-03-02 10:14:15,497 - top2vec - INFO - Creating joint document/word embedding\n",
      "2024-03-02 10:14:15,497 - top2vec - INFO - Creating joint document/word embedding\n",
      "2024-03-02 10:14:15,497 - top2vec - INFO - Creating joint document/word embedding\n",
      "2024-03-02 10:20:29,629 - top2vec - INFO - Creating lower dimension embedding of documents\n",
      "2024-03-02 10:20:29,629 - top2vec - INFO - Creating lower dimension embedding of documents\n",
      "2024-03-02 10:20:29,629 - top2vec - INFO - Creating lower dimension embedding of documents\n",
      "2024-03-02 10:20:29,629 - top2vec - INFO - Creating lower dimension embedding of documents\n",
      "2024-03-02 10:20:58,650 - top2vec - INFO - Finding dense areas of documents\n",
      "2024-03-02 10:20:58,650 - top2vec - INFO - Finding dense areas of documents\n",
      "2024-03-02 10:20:58,650 - top2vec - INFO - Finding dense areas of documents\n",
      "2024-03-02 10:20:58,650 - top2vec - INFO - Finding dense areas of documents\n",
      "2024-03-02 10:21:01,230 - top2vec - INFO - Finding topics\n",
      "2024-03-02 10:21:01,230 - top2vec - INFO - Finding topics\n",
      "2024-03-02 10:21:01,230 - top2vec - INFO - Finding topics\n",
      "2024-03-02 10:21:01,230 - top2vec - INFO - Finding topics\n",
      "2024-03-02 10:21:51,721 - top2vec - INFO - Pre-processing documents for training\n",
      "2024-03-02 10:21:51,721 - top2vec - INFO - Pre-processing documents for training\n",
      "2024-03-02 10:21:51,721 - top2vec - INFO - Pre-processing documents for training\n",
      "2024-03-02 10:21:51,721 - top2vec - INFO - Pre-processing documents for training\n"
     ]
    },
    {
     "name": "stdout",
     "output_type": "stream",
     "text": [
      "Results\n",
      "============\n",
      "npmi: -0.0947666964366898\n",
      "diversity: 0.77\n",
      " \n"
     ]
    },
    {
     "name": "stderr",
     "output_type": "stream",
     "text": [
      "2024-03-02 10:21:53,367 - top2vec - INFO - Creating joint document/word embedding\n",
      "2024-03-02 10:21:53,367 - top2vec - INFO - Creating joint document/word embedding\n",
      "2024-03-02 10:21:53,367 - top2vec - INFO - Creating joint document/word embedding\n",
      "2024-03-02 10:21:53,367 - top2vec - INFO - Creating joint document/word embedding\n",
      "2024-03-02 10:28:06,462 - top2vec - INFO - Creating lower dimension embedding of documents\n",
      "2024-03-02 10:28:06,462 - top2vec - INFO - Creating lower dimension embedding of documents\n",
      "2024-03-02 10:28:06,462 - top2vec - INFO - Creating lower dimension embedding of documents\n",
      "2024-03-02 10:28:06,462 - top2vec - INFO - Creating lower dimension embedding of documents\n",
      "2024-03-02 10:28:32,624 - top2vec - INFO - Finding dense areas of documents\n",
      "2024-03-02 10:28:32,624 - top2vec - INFO - Finding dense areas of documents\n",
      "2024-03-02 10:28:32,624 - top2vec - INFO - Finding dense areas of documents\n",
      "2024-03-02 10:28:32,624 - top2vec - INFO - Finding dense areas of documents\n",
      "2024-03-02 10:28:36,635 - top2vec - INFO - Finding topics\n",
      "2024-03-02 10:28:36,635 - top2vec - INFO - Finding topics\n",
      "2024-03-02 10:28:36,635 - top2vec - INFO - Finding topics\n",
      "2024-03-02 10:28:36,635 - top2vec - INFO - Finding topics\n",
      "2024-03-02 10:29:28,534 - top2vec - INFO - Pre-processing documents for training\n",
      "2024-03-02 10:29:28,534 - top2vec - INFO - Pre-processing documents for training\n",
      "2024-03-02 10:29:28,534 - top2vec - INFO - Pre-processing documents for training\n",
      "2024-03-02 10:29:28,534 - top2vec - INFO - Pre-processing documents for training\n"
     ]
    },
    {
     "name": "stdout",
     "output_type": "stream",
     "text": [
      "Results\n",
      "============\n",
      "npmi: -0.12826006285880936\n",
      "diversity: 0.7\n",
      " \n"
     ]
    },
    {
     "name": "stderr",
     "output_type": "stream",
     "text": [
      "2024-03-02 10:29:30,250 - top2vec - INFO - Creating joint document/word embedding\n",
      "2024-03-02 10:29:30,250 - top2vec - INFO - Creating joint document/word embedding\n",
      "2024-03-02 10:29:30,250 - top2vec - INFO - Creating joint document/word embedding\n",
      "2024-03-02 10:29:30,250 - top2vec - INFO - Creating joint document/word embedding\n",
      "2024-03-02 10:35:44,673 - top2vec - INFO - Creating lower dimension embedding of documents\n",
      "2024-03-02 10:35:44,673 - top2vec - INFO - Creating lower dimension embedding of documents\n",
      "2024-03-02 10:35:44,673 - top2vec - INFO - Creating lower dimension embedding of documents\n",
      "2024-03-02 10:35:44,673 - top2vec - INFO - Creating lower dimension embedding of documents\n",
      "2024-03-02 10:36:07,985 - top2vec - INFO - Finding dense areas of documents\n",
      "2024-03-02 10:36:07,985 - top2vec - INFO - Finding dense areas of documents\n",
      "2024-03-02 10:36:07,985 - top2vec - INFO - Finding dense areas of documents\n",
      "2024-03-02 10:36:07,985 - top2vec - INFO - Finding dense areas of documents\n",
      "2024-03-02 10:36:10,489 - top2vec - INFO - Finding topics\n",
      "2024-03-02 10:36:10,489 - top2vec - INFO - Finding topics\n",
      "2024-03-02 10:36:10,489 - top2vec - INFO - Finding topics\n",
      "2024-03-02 10:36:10,489 - top2vec - INFO - Finding topics\n",
      "2024-03-02 10:36:59,456 - top2vec - INFO - Pre-processing documents for training\n",
      "2024-03-02 10:36:59,456 - top2vec - INFO - Pre-processing documents for training\n",
      "2024-03-02 10:36:59,456 - top2vec - INFO - Pre-processing documents for training\n",
      "2024-03-02 10:36:59,456 - top2vec - INFO - Pre-processing documents for training\n"
     ]
    },
    {
     "name": "stdout",
     "output_type": "stream",
     "text": [
      "Results\n",
      "============\n",
      "npmi: -0.18272137238445732\n",
      "diversity: 0.6966666666666667\n",
      " \n"
     ]
    },
    {
     "name": "stderr",
     "output_type": "stream",
     "text": [
      "2024-03-02 10:37:02,558 - top2vec - INFO - Creating joint document/word embedding\n",
      "2024-03-02 10:37:02,558 - top2vec - INFO - Creating joint document/word embedding\n",
      "2024-03-02 10:37:02,558 - top2vec - INFO - Creating joint document/word embedding\n",
      "2024-03-02 10:37:02,558 - top2vec - INFO - Creating joint document/word embedding\n",
      "2024-03-02 10:43:13,792 - top2vec - INFO - Creating lower dimension embedding of documents\n",
      "2024-03-02 10:43:13,792 - top2vec - INFO - Creating lower dimension embedding of documents\n",
      "2024-03-02 10:43:13,792 - top2vec - INFO - Creating lower dimension embedding of documents\n",
      "2024-03-02 10:43:13,792 - top2vec - INFO - Creating lower dimension embedding of documents\n",
      "2024-03-02 10:43:41,011 - top2vec - INFO - Finding dense areas of documents\n",
      "2024-03-02 10:43:41,011 - top2vec - INFO - Finding dense areas of documents\n",
      "2024-03-02 10:43:41,011 - top2vec - INFO - Finding dense areas of documents\n",
      "2024-03-02 10:43:41,011 - top2vec - INFO - Finding dense areas of documents\n",
      "2024-03-02 10:43:43,735 - top2vec - INFO - Finding topics\n",
      "2024-03-02 10:43:43,735 - top2vec - INFO - Finding topics\n",
      "2024-03-02 10:43:43,735 - top2vec - INFO - Finding topics\n",
      "2024-03-02 10:43:43,735 - top2vec - INFO - Finding topics\n",
      "2024-03-02 10:44:39,332 - top2vec - INFO - Pre-processing documents for training\n",
      "2024-03-02 10:44:39,332 - top2vec - INFO - Pre-processing documents for training\n",
      "2024-03-02 10:44:39,332 - top2vec - INFO - Pre-processing documents for training\n",
      "2024-03-02 10:44:39,332 - top2vec - INFO - Pre-processing documents for training\n"
     ]
    },
    {
     "name": "stdout",
     "output_type": "stream",
     "text": [
      "Results\n",
      "============\n",
      "npmi: -0.19252564223979352\n",
      "diversity: 0.695\n",
      " \n"
     ]
    },
    {
     "name": "stderr",
     "output_type": "stream",
     "text": [
      "2024-03-02 10:44:41,091 - top2vec - INFO - Creating joint document/word embedding\n",
      "2024-03-02 10:44:41,091 - top2vec - INFO - Creating joint document/word embedding\n",
      "2024-03-02 10:44:41,091 - top2vec - INFO - Creating joint document/word embedding\n",
      "2024-03-02 10:44:41,091 - top2vec - INFO - Creating joint document/word embedding\n",
      "2024-03-02 10:50:52,612 - top2vec - INFO - Creating lower dimension embedding of documents\n",
      "2024-03-02 10:50:52,612 - top2vec - INFO - Creating lower dimension embedding of documents\n",
      "2024-03-02 10:50:52,612 - top2vec - INFO - Creating lower dimension embedding of documents\n",
      "2024-03-02 10:50:52,612 - top2vec - INFO - Creating lower dimension embedding of documents\n",
      "2024-03-02 10:51:22,580 - top2vec - INFO - Finding dense areas of documents\n",
      "2024-03-02 10:51:22,580 - top2vec - INFO - Finding dense areas of documents\n",
      "2024-03-02 10:51:22,580 - top2vec - INFO - Finding dense areas of documents\n",
      "2024-03-02 10:51:22,580 - top2vec - INFO - Finding dense areas of documents\n",
      "2024-03-02 10:51:25,228 - top2vec - INFO - Finding topics\n",
      "2024-03-02 10:51:25,228 - top2vec - INFO - Finding topics\n",
      "2024-03-02 10:51:25,228 - top2vec - INFO - Finding topics\n",
      "2024-03-02 10:51:25,228 - top2vec - INFO - Finding topics\n"
     ]
    },
    {
     "name": "stdout",
     "output_type": "stream",
     "text": [
      "Results\n",
      "============\n",
      "npmi: -0.18447009214340584\n",
      "diversity: 0.654\n",
      " \n"
     ]
    }
   ],
   "source": [
    "for i in range(3):\n",
    "    dataset, custom = \"trump\", True\n",
    "    params = {\"nr_topics\": [(i+1)*10 for i in range(5)],\n",
    "              # \"embedding_model\": \"all-mpnet-base-v2\",\n",
    "              \"hdbscan_args\": {'min_cluster_size': 15,\n",
    "                               'metric': 'euclidean',\n",
    "                               'cluster_selection_method': 'eom'}}\n",
    "\n",
    "    trainer = Trainer(dataset=dataset,\n",
    "                      custom_dataset=custom,\n",
    "                      custom_model=None,\n",
    "                      model_name=\"Top2Vec\",\n",
    "                      params=params,\n",
    "                      verbose=True)\n",
    "    results = trainer.train(save=f\"Top2Vec_trump_{i+1}\")"
   ]
  },
  {
   "cell_type": "markdown",
   "metadata": {
    "id": "WKxdYyJECpuY"
   },
   "source": [
    "# **DTM Evaluation**\n",
    "\n",
    "Here, we evaluate BERTopic and LDAseq on a dynamic topic modeling task with two datasets: \n",
    "* Trump's tweets\n",
    "* UN general debates"
   ]
  },
  {
   "cell_type": "markdown",
   "metadata": {
    "id": "67jrSUR6DPbi"
   },
   "source": [
    "### **BERTopic**\n",
    "\n",
    "As seen before, we can load our data and generate embeddings before passing it to our evaluator:"
   ]
  },
  {
   "cell_type": "code",
   "execution_count": null,
   "metadata": {
    "id": "Vl4xsRDgCtSY"
   },
   "outputs": [],
   "source": [
    "%%capture\n",
    "from sentence_transformers import SentenceTransformer\n",
    "\n",
    "# Prepare data\n",
    "dataset, custom = \"trump_dtm\", True\n",
    "data_loader = DataLoader(dataset)\n",
    "_, timestamps = data_loader.load_docs()\n",
    "data = data_loader.load_octis(custom)\n",
    "data = [\" \".join(words) for words in data.get_corpus()]\n",
    "\n",
    "# Extract embeddings\n",
    "model = SentenceTransformer(\"all-mpnet-base-v2\")\n",
    "embeddings = model.encode(data, show_progress_bar=True)"
   ]
  },
  {
   "cell_type": "markdown",
   "metadata": {
    "id": "snszIP5bIbE4"
   },
   "source": [
    "Then, we also need to make sure that the timestamps match the data that were are using:"
   ]
  },
  {
   "cell_type": "code",
   "execution_count": null,
   "metadata": {
    "id": "7NhqOi6hqJDJ"
   },
   "outputs": [],
   "source": [
    "# Match indices\n",
    "import os\n",
    "os.listdir(f\"./{dataset}\")\n",
    "with open(f\"./{dataset}/indexes.txt\") as f:\n",
    "    indices = f.readlines()\n",
    "    \n",
    "indices = [int(index.split(\"\\n\")[0]) for index in indices]\n",
    "timestamps = [timestamp for index, timestamp in enumerate(timestamps) if index in indices]\n",
    "len(data), len(timestamps)"
   ]
  },
  {
   "cell_type": "markdown",
   "metadata": {
    "id": "Q7Luc2euIfVL"
   },
   "source": [
    "Finally, we can simply run the Trainer as we did before but adding the timestamps:"
   ]
  },
  {
   "cell_type": "code",
   "execution_count": null,
   "metadata": {
    "id": "uqSmtipeIm8n"
   },
   "outputs": [],
   "source": [
    "for i in range(3):\n",
    "    params = {\n",
    "        \"nr_topics\": [50],\n",
    "        \"min_topic_size\": 15,\n",
    "        \"verbose\": True,\n",
    "    }\n",
    "\n",
    "    trainer = Trainer(dataset=dataset,\n",
    "                      model_name=\"BERTopic\",\n",
    "                      params=params,\n",
    "                      bt_embeddings=embeddings,\n",
    "                      custom_dataset=custom,\n",
    "                      bt_timestamps=timestamps,\n",
    "                      topk=5,\n",
    "                      bt_nr_bins=10,\n",
    "                      verbose=True)\n",
    "    results = trainer.train(f\"DynamicBERTopic_trump_{i}\")"
   ]
  },
  {
   "cell_type": "markdown",
   "metadata": {
    "id": "ZF4AFG2oDQn-"
   },
   "source": [
    "### **LDAseq**\n",
    "To run LDAseq, we again prepare our data and match the indices of our timestamps:"
   ]
  },
  {
   "cell_type": "code",
   "execution_count": null,
   "metadata": {
    "colab": {
     "base_uri": "https://localhost:8080/"
    },
    "id": "hQ4X6GymFYSu",
    "outputId": "22ab5c57-a279-48de-dc91-966c33a885c7"
   },
   "outputs": [
    {
     "name": "stderr",
     "output_type": "stream",
     "text": [
      "119320it [03:25, 579.62it/s]\n",
      "278837it [00:00, 1751620.37it/s]\n"
     ]
    },
    {
     "data": {
      "text/plain": [
       "(273743, 273743)"
      ]
     },
     "execution_count": 10,
     "metadata": {},
     "output_type": "execute_result"
    }
   ],
   "source": [
    "import os\n",
    "import pandas as pd\n",
    "\n",
    "# Prepare data\n",
    "dataset, custom = \"un_dtm\", True\n",
    "data_loader = DataLoader(dataset)\n",
    "_, timestamps = data_loader.load_docs()\n",
    "data = data_loader.load_octis(custom)\n",
    "data = [\" \".join(words) for words in data.get_corpus()]\n",
    "\n",
    "# Match indices\n",
    "os.listdir(f\"{dataset}\")\n",
    "with open(f\"{dataset}/indexes.txt\") as f:\n",
    "    indices = f.readlines()\n",
    "    \n",
    "indices = [int(index.split(\"\\n\")[0]) for index in indices]\n",
    "indices_test = {index: True for index in indices}\n",
    "timestamps = [timestamp for index, timestamp in tqdm(enumerate(timestamps)) if indices_test.get(index)]\n",
    "len(data), len(timestamps)"
   ]
  },
  {
   "cell_type": "markdown",
   "metadata": {
    "id": "VAonxNdtJYwD"
   },
   "source": [
    "Then, we simply pass the timestamps and run our the trainer for LDAseq:"
   ]
  },
  {
   "cell_type": "code",
   "execution_count": null,
   "metadata": {
    "id": "4wv_5-awJ4g7"
   },
   "outputs": [],
   "source": [
    "params = {\n",
    "    \"num_topics\": [50],\n",
    "    \"nr_bins\": 9,\n",
    "    \"random_state\": 42\n",
    "}\n",
    "\n",
    "trainer = Trainer(dataset=dataset,\n",
    "                  model_name=\"LDAseq\",\n",
    "                  params=params,\n",
    "                  custom_dataset=custom,\n",
    "                  bt_timestamps=timestamps,\n",
    "                  topk=5,\n",
    "                  verbose=True)\n",
    "results = trainer.train()"
   ]
  },
  {
   "cell_type": "markdown",
   "metadata": {
    "id": "uNKfK8C3KH1M"
   },
   "source": [
    "We remove some information from the results as those are quite big to save:"
   ]
  },
  {
   "cell_type": "code",
   "execution_count": null,
   "metadata": {
    "id": "6vB77Xa2qYPZ"
   },
   "outputs": [],
   "source": [
    "results[0][\"Params\"].keys()\n",
    "del results[0][\"Params\"][\"corpus\"]\n",
    "del results[0][\"Params\"][\"id2word\"]\n",
    "del results[0][\"Params\"][\"time_slice\"]\n",
    "\n",
    "import json\n",
    "with open(f\"LDAseq_trump.json\", 'w') as f:\n",
    "    json.dump(results, f)"
   ]
  },
  {
   "cell_type": "markdown",
   "metadata": {
    "id": "j-M13ABjKQYE"
   },
   "source": [
    "# **Wall time**\n",
    "Here, we only focus on the wall time of each topic model, from instantiating the model to training. To do so, we take the Trump dataset and split it up into steps of 1000 documents. Then, we can train a model and track the wall time:"
   ]
  },
  {
   "cell_type": "code",
   "execution_count": null,
   "metadata": {
    "id": "7l0Yu9vSKfKc"
   },
   "outputs": [],
   "source": [
    "embedding_model = \"all-mpnet-base-v2\"\n",
    "# embedding_model = tensorflow_hub.load(\"https://tfhub.dev/google/universal-sentence-encoder/4\")\n",
    "embedding_model_name = \"all-mpnet-base-v2\"\n",
    "topic_model_name = \"BERTopic_USE\"\n",
    "\n",
    "results = pd.DataFrame(columns=[\"dataset\", \"nr_documents\", \"vocab_size\", \"time\",\n",
    "                                \"cpu\", \"gpu\", \"gpu_cudnn\", \"gpu_memory\", \"embedding_model\"])\n",
    "for index, nr_documents in enumerate(tqdm(np.arange(1000, len(data), 2_000, dtype=int))):\n",
    "    \n",
    "    selected_data = random.sample(data, nr_documents)\n",
    "    selected_tokenized_data = random.sample(tokenized_data, nr_documents)\n",
    "    \n",
    "    if topic_model_name == \"CTM\":\n",
    "        qt, training_dataset = preprocess_ctm(selected_data, embedding_model_name)\n",
    "    \n",
    "    # Run model\n",
    "    start = time.time()\n",
    "    \n",
    "    if topic_model_name == \"LDA\":\n",
    "        id2word = corpora.Dictionary(selected_tokenized_data)\n",
    "        id_corpus = [id2word.doc2bow(document) for document in selected_tokenized_data]\n",
    "        lda = LdaMulticore(id_corpus, id2word=id2word, num_topics=100)\n",
    "    \n",
    "    elif topic_model_name == \"NFM\":\n",
    "        id2word = corpora.Dictionary(selected_tokenized_data)\n",
    "        id_corpus = [id2word.doc2bow(document) for document in selected_tokenized_data]\n",
    "        nmf_model = nmf.Nmf(id_corpus, id2word=id2word, num_topics=100)\n",
    "\n",
    "    elif topic_model_name == \"BERTopic\":\n",
    "        topic_model = BERTopic(embedding_model=embedding_model)    \n",
    "        topics, probs = topic_model.fit_transform(selected_data)\n",
    "        \n",
    "    elif topic_model_name == \"BERTopic_Doc2Vec\":\n",
    "        train_corpus = [TaggedDocument(default_tokenizer(doc), [i]) for i, doc in enumerate(selected_data)]\n",
    "        doc2vec_args = {\"vector_size\": 300,\n",
    "                        \"min_count\": 50,\n",
    "                        \"window\": 15,\n",
    "                        \"sample\": 1e-5,\n",
    "                        \"negative\": 0,\n",
    "                        \"hs\": 1,\n",
    "                        \"epochs\": 40,\n",
    "                        \"dm\": 0,\n",
    "                        \"dbow_words\": 1,\n",
    "                       \"documents\": train_corpus,\n",
    "                       \"workers\": -1}\n",
    "        model = Doc2Vec(**doc2vec_args)\n",
    "        embeddings = model.docvecs.vectors_docs\n",
    "        topic_model = BERTopic()    \n",
    "        topics, probs = topic_model.fit_transform(selected_data, embeddings)\n",
    "        \n",
    "    elif topic_model_name == \"BERTopic_USE\":\n",
    "        embeddings = embedding_model(selected_data).cpu().numpy()\n",
    "        topic_model = BERTopic(embedding_model=embedding_model)    \n",
    "        topics, probs = topic_model.fit_transform(selected_data, embeddings)\n",
    "\n",
    "    elif topic_model_name == \"Top2Vec\":\n",
    "        model = Top2Vec(selected_data, hdbscan_args={\"min_cluster_size\": 15}, workers=-1)\n",
    "#         model = Top2VecNew(selected_data, hdbscan_args={\"min_cluster_size\": 15}, embedding_model=embedding_model)\n",
    "        \n",
    "    elif topic_model_name == \"CTM\":\n",
    "        ctm = CombinedTM(n_components=100, contextual_size=768, bow_size=len(qt.vocab))\n",
    "        ctm.fit(training_dataset)\n",
    "    \n",
    "    end = time.time()\n",
    "\n",
    "    # Calculate vocab size\n",
    "    vectorizer = CountVectorizer()\n",
    "    X = vectorizer.fit_transform(selected_data)\n",
    "    vocab_size = len(vectorizer.get_feature_names())\n",
    "    \n",
    "    results.loc[len(results)] = [dataset, len(selected_data), vocab_size, end - start, cpu_name, gpu_name, \n",
    "                                 gpu_cudnn, gpu_memory, embedding_model_name]"
   ]
  }
 ],
 "metadata": {
  "accelerator": "GPU",
  "colab": {
   "collapsed_sections": [],
   "name": "BERTopic OCTIS v3.ipynb",
   "provenance": [],
   "toc_visible": true
  },
  "kernelspec": {
   "display_name": "Python 3 (ipykernel)",
   "language": "python",
   "name": "python3"
  },
  "language_info": {
   "codemirror_mode": {
    "name": "ipython",
    "version": 3
   },
   "file_extension": ".py",
   "mimetype": "text/x-python",
   "name": "python",
   "nbconvert_exporter": "python",
   "pygments_lexer": "ipython3",
   "version": "3.10.12"
  }
 },
 "nbformat": 4,
 "nbformat_minor": 4
}
